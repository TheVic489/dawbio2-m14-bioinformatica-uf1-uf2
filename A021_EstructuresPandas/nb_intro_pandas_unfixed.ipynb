{
 "cells": [
  {
   "cell_type": "code",
   "execution_count": 2,
   "metadata": {},
   "outputs": [],
   "source": [
    "import numpy as np\n",
    "import pandas as pd\n",
    "\n",
    "# Demo construcció Dataframe Pandas.\n",
    "animals_df = pd.Series(data=['falcon', 'dog', 'snail', 'spider'], dtype=\"string\")\n",
    "df3 = pd.DataFrame(\n",
    "    {\n",
    "        \"A\": [1.0] + [np.nan] * 2 + [3.5],\n",
    "        \"B\": pd.date_range(\"20220101\", periods=4, freq='D'),\n",
    "        \"C\": animals_df,\n",
    "        \"D\": pd.Categorical([\"Male\", \"Female\", \"NS/NC\", \"Female\"]),\n",
    "        \"E\": \"foo\",\n",
    "    }\n",
    ")\n"
   ]
  },
  {
   "cell_type": "markdown",
   "metadata": {},
   "source": [
    "## Consulta de dades amb Pandas. Notes Alumnes."
   ]
  },
  {
   "cell_type": "code",
   "execution_count": 3,
   "metadata": {},
   "outputs": [
    {
     "data": {
      "text/html": [
       "<div>\n",
       "<style scoped>\n",
       "    .dataframe tbody tr th:only-of-type {\n",
       "        vertical-align: middle;\n",
       "    }\n",
       "\n",
       "    .dataframe tbody tr th {\n",
       "        vertical-align: top;\n",
       "    }\n",
       "\n",
       "    .dataframe thead th {\n",
       "        text-align: right;\n",
       "    }\n",
       "</style>\n",
       "<table border=\"1\" class=\"dataframe\">\n",
       "  <thead>\n",
       "    <tr style=\"text-align: right;\">\n",
       "      <th></th>\n",
       "      <th>students</th>\n",
       "      <th>grade</th>\n",
       "      <th>dual</th>\n",
       "      <th>dualipa</th>\n",
       "      <th>start_date</th>\n",
       "    </tr>\n",
       "  </thead>\n",
       "  <tbody>\n",
       "    <tr>\n",
       "      <th>John</th>\n",
       "      <td>John</td>\n",
       "      <td>7</td>\n",
       "      <td>False</td>\n",
       "      <td>True</td>\n",
       "      <td>2021-01-01</td>\n",
       "    </tr>\n",
       "    <tr>\n",
       "      <th>Mary</th>\n",
       "      <td>Mary</td>\n",
       "      <td>9</td>\n",
       "      <td>True</td>\n",
       "      <td>True</td>\n",
       "      <td>2021-01-02</td>\n",
       "    </tr>\n",
       "    <tr>\n",
       "      <th>Lucy</th>\n",
       "      <td>Lucy</td>\n",
       "      <td>8</td>\n",
       "      <td>False</td>\n",
       "      <td>True</td>\n",
       "      <td>2021-01-03</td>\n",
       "    </tr>\n",
       "    <tr>\n",
       "      <th>Peter</th>\n",
       "      <td>Peter</td>\n",
       "      <td>4</td>\n",
       "      <td>True</td>\n",
       "      <td>True</td>\n",
       "      <td>2021-01-04</td>\n",
       "    </tr>\n",
       "    <tr>\n",
       "      <th>Ann</th>\n",
       "      <td>Ann</td>\n",
       "      <td>10</td>\n",
       "      <td>True</td>\n",
       "      <td>True</td>\n",
       "      <td>2021-01-05</td>\n",
       "    </tr>\n",
       "    <tr>\n",
       "      <th>Tom</th>\n",
       "      <td>Tom</td>\n",
       "      <td>6</td>\n",
       "      <td>True</td>\n",
       "      <td>True</td>\n",
       "      <td>2021-01-06</td>\n",
       "    </tr>\n",
       "  </tbody>\n",
       "</table>\n",
       "</div>"
      ],
      "text/plain": [
       "      students  grade   dual  dualipa start_date\n",
       "John      John      7  False     True 2021-01-01\n",
       "Mary      Mary      9   True     True 2021-01-02\n",
       "Lucy      Lucy      8  False     True 2021-01-03\n",
       "Peter    Peter      4   True     True 2021-01-04\n",
       "Ann        Ann     10   True     True 2021-01-05\n",
       "Tom        Tom      6   True     True 2021-01-06"
      ]
     },
     "execution_count": 3,
     "metadata": {},
     "output_type": "execute_result"
    }
   ],
   "source": [
    "\n",
    "#les notes de dawbio amb dataframe\n",
    "student_list=[\"John\",\"Mary\",\"Lucy\",\"Peter\",\"Ann\",\"Tom\"]\n",
    "grades_list = [7,9,8,4,10,6]\n",
    "wants_dual_list = [False,True,False,True,True,True]\n",
    "wants_dualipa_list = [True]\n",
    "start_date = pd.date_range(\"20210101\", periods=6)\n",
    "\n",
    "datos: dict[list] = {\"students\": student_list, \"grade\": grades_list,\n",
    "      \"dual\": wants_dual_list, \"dualipa\": wants_dualipa_list, \n",
    "      \"start_date\": start_date}\n",
    "\n",
    "students_frame = pd.DataFrame(\n",
    "    index=student_list,\n",
    "    data=datos\n",
    ")\n",
    "students_frame"
   ]
  },
  {
   "cell_type": "code",
   "execution_count": 4,
   "metadata": {},
   "outputs": [
    {
     "data": {
      "text/html": [
       "<div>\n",
       "<style scoped>\n",
       "    .dataframe tbody tr th:only-of-type {\n",
       "        vertical-align: middle;\n",
       "    }\n",
       "\n",
       "    .dataframe tbody tr th {\n",
       "        vertical-align: top;\n",
       "    }\n",
       "\n",
       "    .dataframe thead th {\n",
       "        text-align: right;\n",
       "    }\n",
       "</style>\n",
       "<table border=\"1\" class=\"dataframe\">\n",
       "  <thead>\n",
       "    <tr style=\"text-align: right;\">\n",
       "      <th></th>\n",
       "      <th>Name</th>\n",
       "      <th>Maths</th>\n",
       "      <th>Science</th>\n",
       "    </tr>\n",
       "  </thead>\n",
       "  <tbody>\n",
       "    <tr>\n",
       "      <th>0</th>\n",
       "      <td>Martha</td>\n",
       "      <td>87</td>\n",
       "      <td>83</td>\n",
       "    </tr>\n",
       "    <tr>\n",
       "      <th>1</th>\n",
       "      <td>Tim</td>\n",
       "      <td>91</td>\n",
       "      <td>99</td>\n",
       "    </tr>\n",
       "    <tr>\n",
       "      <th>2</th>\n",
       "      <td>Rob</td>\n",
       "      <td>97</td>\n",
       "      <td>84</td>\n",
       "    </tr>\n",
       "    <tr>\n",
       "      <th>3</th>\n",
       "      <td>Georgia</td>\n",
       "      <td>95</td>\n",
       "      <td>76</td>\n",
       "    </tr>\n",
       "  </tbody>\n",
       "</table>\n",
       "</div>"
      ],
      "text/plain": [
       "      Name  Maths  Science\n",
       "0   Martha     87       83\n",
       "1      Tim     91       99\n",
       "2      Rob     97       84\n",
       "3  Georgia     95       76"
      ]
     },
     "metadata": {},
     "output_type": "display_data"
    }
   ],
   "source": [
    "#Comentari Aymane\n",
    "#How to display  with display instead of print\n",
    "# (creates formatting and better rending)\n",
    "\n",
    "dict = {'Name' : ['Martha', 'Tim', 'Rob', 'Georgia'],\n",
    "        'Maths' : [87, 91, 97, 95],\n",
    "        'Science' : [83, 99, 84, 76]}\n",
    "df = pd.DataFrame(dict)\n",
    "  \n",
    "# displaying the DataFrame\n",
    "display(df)\n",
    "# display is not callable, it has submodules"
   ]
  },
  {
   "cell_type": "code",
   "execution_count": 5,
   "metadata": {},
   "outputs": [
    {
     "data": {
      "text/plain": [
       "students              object\n",
       "grade                  int64\n",
       "dual                    bool\n",
       "dualipa                 bool\n",
       "start_date    datetime64[ns]\n",
       "dtype: object"
      ]
     },
     "execution_count": 5,
     "metadata": {},
     "output_type": "execute_result"
    }
   ],
   "source": [
    "# Tipus \n",
    "students_frame.dtypes"
   ]
  },
  {
   "cell_type": "code",
   "execution_count": 6,
   "metadata": {},
   "outputs": [
    {
     "data": {
      "text/plain": [
       "5"
      ]
     },
     "execution_count": 6,
     "metadata": {},
     "output_type": "execute_result"
    }
   ],
   "source": [
    "# Files i columnes\n",
    "df3.shape[1]\n",
    "# df3.shape[1]"
   ]
  },
  {
   "cell_type": "code",
   "execution_count": 7,
   "metadata": {},
   "outputs": [
    {
     "data": {
      "text/html": [
       "<div>\n",
       "<style scoped>\n",
       "    .dataframe tbody tr th:only-of-type {\n",
       "        vertical-align: middle;\n",
       "    }\n",
       "\n",
       "    .dataframe tbody tr th {\n",
       "        vertical-align: top;\n",
       "    }\n",
       "\n",
       "    .dataframe thead th {\n",
       "        text-align: right;\n",
       "    }\n",
       "</style>\n",
       "<table border=\"1\" class=\"dataframe\">\n",
       "  <thead>\n",
       "    <tr style=\"text-align: right;\">\n",
       "      <th></th>\n",
       "      <th>Maths</th>\n",
       "      <th>Science</th>\n",
       "    </tr>\n",
       "  </thead>\n",
       "  <tbody>\n",
       "    <tr>\n",
       "      <th>count</th>\n",
       "      <td>4.000000</td>\n",
       "      <td>4.000000</td>\n",
       "    </tr>\n",
       "    <tr>\n",
       "      <th>mean</th>\n",
       "      <td>92.500000</td>\n",
       "      <td>85.500000</td>\n",
       "    </tr>\n",
       "    <tr>\n",
       "      <th>std</th>\n",
       "      <td>4.434712</td>\n",
       "      <td>9.678154</td>\n",
       "    </tr>\n",
       "    <tr>\n",
       "      <th>min</th>\n",
       "      <td>87.000000</td>\n",
       "      <td>76.000000</td>\n",
       "    </tr>\n",
       "    <tr>\n",
       "      <th>25%</th>\n",
       "      <td>90.000000</td>\n",
       "      <td>81.250000</td>\n",
       "    </tr>\n",
       "    <tr>\n",
       "      <th>50%</th>\n",
       "      <td>93.000000</td>\n",
       "      <td>83.500000</td>\n",
       "    </tr>\n",
       "    <tr>\n",
       "      <th>75%</th>\n",
       "      <td>95.500000</td>\n",
       "      <td>87.750000</td>\n",
       "    </tr>\n",
       "    <tr>\n",
       "      <th>max</th>\n",
       "      <td>97.000000</td>\n",
       "      <td>99.000000</td>\n",
       "    </tr>\n",
       "  </tbody>\n",
       "</table>\n",
       "</div>"
      ],
      "text/plain": [
       "           Maths    Science\n",
       "count   4.000000   4.000000\n",
       "mean   92.500000  85.500000\n",
       "std     4.434712   9.678154\n",
       "min    87.000000  76.000000\n",
       "25%    90.000000  81.250000\n",
       "50%    93.000000  83.500000\n",
       "75%    95.500000  87.750000\n",
       "max    97.000000  99.000000"
      ]
     },
     "execution_count": 7,
     "metadata": {},
     "output_type": "execute_result"
    }
   ],
   "source": [
    "# Estadística.\n",
    "#df3.describe()\n",
    "df.describe()"
   ]
  },
  {
   "cell_type": "code",
   "execution_count": 8,
   "metadata": {},
   "outputs": [
    {
     "data": {
      "text/html": [
       "<div>\n",
       "<style scoped>\n",
       "    .dataframe tbody tr th:only-of-type {\n",
       "        vertical-align: middle;\n",
       "    }\n",
       "\n",
       "    .dataframe tbody tr th {\n",
       "        vertical-align: top;\n",
       "    }\n",
       "\n",
       "    .dataframe thead th {\n",
       "        text-align: right;\n",
       "    }\n",
       "</style>\n",
       "<table border=\"1\" class=\"dataframe\">\n",
       "  <thead>\n",
       "    <tr style=\"text-align: right;\">\n",
       "      <th></th>\n",
       "      <th>A</th>\n",
       "      <th>B</th>\n",
       "      <th>C</th>\n",
       "      <th>D</th>\n",
       "      <th>E</th>\n",
       "    </tr>\n",
       "  </thead>\n",
       "  <tbody>\n",
       "    <tr>\n",
       "      <th>0</th>\n",
       "      <td>1.0</td>\n",
       "      <td>2022-01-01</td>\n",
       "      <td>falcon</td>\n",
       "      <td>Male</td>\n",
       "      <td>foo</td>\n",
       "    </tr>\n",
       "    <tr>\n",
       "      <th>1</th>\n",
       "      <td>NaN</td>\n",
       "      <td>2022-01-02</td>\n",
       "      <td>dog</td>\n",
       "      <td>Female</td>\n",
       "      <td>foo</td>\n",
       "    </tr>\n",
       "    <tr>\n",
       "      <th>2</th>\n",
       "      <td>NaN</td>\n",
       "      <td>2022-01-03</td>\n",
       "      <td>snail</td>\n",
       "      <td>NS/NC</td>\n",
       "      <td>foo</td>\n",
       "    </tr>\n",
       "    <tr>\n",
       "      <th>3</th>\n",
       "      <td>3.5</td>\n",
       "      <td>2022-01-04</td>\n",
       "      <td>spider</td>\n",
       "      <td>Female</td>\n",
       "      <td>foo</td>\n",
       "    </tr>\n",
       "  </tbody>\n",
       "</table>\n",
       "</div>"
      ],
      "text/plain": [
       "     A          B       C       D    E\n",
       "0  1.0 2022-01-01  falcon    Male  foo\n",
       "1  NaN 2022-01-02     dog  Female  foo\n",
       "2  NaN 2022-01-03   snail   NS/NC  foo\n",
       "3  3.5 2022-01-04  spider  Female  foo"
      ]
     },
     "execution_count": 8,
     "metadata": {},
     "output_type": "execute_result"
    }
   ],
   "source": [
    "# Head / tail.\n",
    "df3.tail()"
   ]
  },
  {
   "cell_type": "code",
   "execution_count": 9,
   "metadata": {},
   "outputs": [
    {
     "data": {
      "text/html": [
       "<div>\n",
       "<style scoped>\n",
       "    .dataframe tbody tr th:only-of-type {\n",
       "        vertical-align: middle;\n",
       "    }\n",
       "\n",
       "    .dataframe tbody tr th {\n",
       "        vertical-align: top;\n",
       "    }\n",
       "\n",
       "    .dataframe thead th {\n",
       "        text-align: right;\n",
       "    }\n",
       "</style>\n",
       "<table border=\"1\" class=\"dataframe\">\n",
       "  <thead>\n",
       "    <tr style=\"text-align: right;\">\n",
       "      <th></th>\n",
       "      <th>John</th>\n",
       "      <th>Mary</th>\n",
       "      <th>Lucy</th>\n",
       "      <th>Peter</th>\n",
       "      <th>Ann</th>\n",
       "      <th>Tom</th>\n",
       "    </tr>\n",
       "  </thead>\n",
       "  <tbody>\n",
       "    <tr>\n",
       "      <th>students</th>\n",
       "      <td>John</td>\n",
       "      <td>Mary</td>\n",
       "      <td>Lucy</td>\n",
       "      <td>Peter</td>\n",
       "      <td>Ann</td>\n",
       "      <td>Tom</td>\n",
       "    </tr>\n",
       "    <tr>\n",
       "      <th>grade</th>\n",
       "      <td>7</td>\n",
       "      <td>9</td>\n",
       "      <td>8</td>\n",
       "      <td>4</td>\n",
       "      <td>10</td>\n",
       "      <td>6</td>\n",
       "    </tr>\n",
       "    <tr>\n",
       "      <th>dual</th>\n",
       "      <td>False</td>\n",
       "      <td>True</td>\n",
       "      <td>False</td>\n",
       "      <td>True</td>\n",
       "      <td>True</td>\n",
       "      <td>True</td>\n",
       "    </tr>\n",
       "    <tr>\n",
       "      <th>dualipa</th>\n",
       "      <td>True</td>\n",
       "      <td>True</td>\n",
       "      <td>True</td>\n",
       "      <td>True</td>\n",
       "      <td>True</td>\n",
       "      <td>True</td>\n",
       "    </tr>\n",
       "    <tr>\n",
       "      <th>start_date</th>\n",
       "      <td>2021-01-01 00:00:00</td>\n",
       "      <td>2021-01-02 00:00:00</td>\n",
       "      <td>2021-01-03 00:00:00</td>\n",
       "      <td>2021-01-04 00:00:00</td>\n",
       "      <td>2021-01-05 00:00:00</td>\n",
       "      <td>2021-01-06 00:00:00</td>\n",
       "    </tr>\n",
       "  </tbody>\n",
       "</table>\n",
       "</div>"
      ],
      "text/plain": [
       "                           John                 Mary                 Lucy  \\\n",
       "students                   John                 Mary                 Lucy   \n",
       "grade                         7                    9                    8   \n",
       "dual                      False                 True                False   \n",
       "dualipa                    True                 True                 True   \n",
       "start_date  2021-01-01 00:00:00  2021-01-02 00:00:00  2021-01-03 00:00:00   \n",
       "\n",
       "                          Peter                  Ann                  Tom  \n",
       "students                  Peter                  Ann                  Tom  \n",
       "grade                         4                   10                    6  \n",
       "dual                       True                 True                 True  \n",
       "dualipa                    True                 True                 True  \n",
       "start_date  2021-01-04 00:00:00  2021-01-05 00:00:00  2021-01-06 00:00:00  "
      ]
     },
     "execution_count": 9,
     "metadata": {},
     "output_type": "execute_result"
    }
   ],
   "source": [
    "students_frame.T"
   ]
  },
  {
   "cell_type": "code",
   "execution_count": 10,
   "metadata": {},
   "outputs": [
    {
     "name": "stdout",
     "output_type": "stream",
     "text": [
      "      students  grade   dual  dualipa start_date\n",
      "Peter    Peter      4   True     True 2021-01-04\n",
      "Tom        Tom      6   True     True 2021-01-06\n",
      "John      John      7  False     True 2021-01-01\n",
      "Lucy      Lucy      8  False     True 2021-01-03\n",
      "Mary      Mary      9   True     True 2021-01-02\n",
      "Ann        Ann     10   True     True 2021-01-05\n"
     ]
    }
   ],
   "source": [
    "# Ordenar numèric\n",
    "students_frame_sorted = students_frame.sort_values(by=[\"grade\"],axis=0,ascending=True)\n",
    "print(students_frame_sorted)"
   ]
  },
  {
   "cell_type": "code",
   "execution_count": 11,
   "metadata": {},
   "outputs": [
    {
     "name": "stdout",
     "output_type": "stream",
     "text": [
      "Lucy grade =  8\n"
     ]
    }
   ],
   "source": [
    "# Utilitzar sempre localització d'un atribut\n",
    "# .loc rep 2 parametres('enfonsar-se','bucejar')\n",
    "print(\"Lucy grade = \",students_frame.loc[\"Lucy\",\"grade\"])"
   ]
  },
  {
   "cell_type": "code",
   "execution_count": 12,
   "metadata": {},
   "outputs": [],
   "source": [
    "## All info from Lucy \n",
    "# students_frame.loc[\"Lucy\"]"
   ]
  },
  {
   "cell_type": "code",
   "execution_count": 13,
   "metadata": {},
   "outputs": [
    {
     "data": {
      "text/plain": [
       "grade         8\n",
       "dualipa    True\n",
       "Name: Lucy, dtype: object"
      ]
     },
     "execution_count": 13,
     "metadata": {},
     "output_type": "execute_result"
    }
   ],
   "source": [
    "students_frame.loc[\"Lucy\",[\"grade\",\"dualipa\"]]"
   ]
  },
  {
   "cell_type": "code",
   "execution_count": 64,
   "metadata": {},
   "outputs": [
    {
     "data": {
      "text/plain": [
       "students                     Lucy\n",
       "grade                           8\n",
       "dual                        False\n",
       "dualipa                      True\n",
       "start_date    2021-01-03 00:00:00\n",
       "Name: Lucy, dtype: object"
      ]
     },
     "execution_count": 64,
     "metadata": {},
     "output_type": "execute_result"
    }
   ],
   "source": [
    "#si vull totes les columnes de Lucy fico un slice buit a la columna\n",
    "students_frame.loc[\"Lucy\",:]\n",
    "# crec que l'slice buit és opcional."
   ]
  },
  {
   "cell_type": "code",
   "execution_count": 14,
   "metadata": {},
   "outputs": [
    {
     "data": {
      "text/plain": [
       "John      7\n",
       "Mary      9\n",
       "Lucy      8\n",
       "Peter     4\n",
       "Ann      10\n",
       "Tom       6\n",
       "Name: grade, dtype: int64"
      ]
     },
     "execution_count": 14,
     "metadata": {},
     "output_type": "execute_result"
    }
   ],
   "source": [
    "#si vull totes les notes dels estudiants, a la fila poso un slice buit\n",
    "students_frame.loc[:,\"grade\"]"
   ]
  },
  {
   "cell_type": "code",
   "execution_count": 15,
   "metadata": {},
   "outputs": [
    {
     "data": {
      "text/plain": [
       "7"
      ]
     },
     "execution_count": 15,
     "metadata": {},
     "output_type": "execute_result"
    }
   ],
   "source": [
    "#La primera coordenada capbusada | i despres bucejo -> però amb numèrics.\n",
    "students_frame.iloc[0,1]"
   ]
  },
  {
   "cell_type": "code",
   "execution_count": 16,
   "metadata": {},
   "outputs": [
    {
     "name": "stdout",
     "output_type": "stream",
     "text": [
      "llista varies files\n",
      "      grade   dual\n",
      "Mary      9   True\n",
      "Lucy      8  False\n"
     ]
    }
   ],
   "source": [
    "#Podem retornar una llista de varies files, i retorna una llista\n",
    "students_frame2 = students_frame.loc[[\"Mary\",\"Lucy\"],\n",
    "                   [\"grade\",\"dual\"]]\n",
    "print(\"llista varies files\")\n",
    "print(students_frame2)"
   ]
  }
 ],
 "metadata": {
  "kernelspec": {
   "display_name": "Python 3.10.6 ('bio')",
   "language": "python",
   "name": "python3"
  },
  "language_info": {
   "codemirror_mode": {
    "name": "ipython",
    "version": 3
   },
   "file_extension": ".py",
   "mimetype": "text/x-python",
   "name": "python",
   "nbconvert_exporter": "python",
   "pygments_lexer": "ipython3",
   "version": "3.10.6"
  },
  "orig_nbformat": 4,
  "vscode": {
   "interpreter": {
    "hash": "80d9a229293de82ff0a6cdcaeef08119522d819e34b64930a164959170ead25a"
   }
  }
 },
 "nbformat": 4,
 "nbformat_minor": 2
}
