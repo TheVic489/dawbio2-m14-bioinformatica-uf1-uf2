{
 "cells": [
  {
   "attachments": {},
   "cell_type": "markdown",
   "metadata": {},
   "source": [
    "## Programació expressió regulars amb Python\n",
    "\n",
    "Possible ajuda, a la documentació oficial python <a href=\"https://docs.python.org/3/library/re.html\">regex</a>"
   ]
  },
  {
   "cell_type": "code",
   "execution_count": 6,
   "metadata": {},
   "outputs": [
    {
     "data": {
      "text/plain": [
       "'Example 1 regex. txt=Hola a todossssss.'"
      ]
     },
     "metadata": {},
     "output_type": "display_data"
    },
    {
     "data": {
      "text/plain": [
       "'reg=s{2,}'"
      ]
     },
     "metadata": {},
     "output_type": "display_data"
    },
    {
     "data": {
      "text/plain": [
       "1"
      ]
     },
     "metadata": {},
     "output_type": "display_data"
    }
   ],
   "source": [
    "import re\n",
    "\n",
    "#sempre s'han de definir 4 variables; per que\n",
    "#d'aquesta forma no ens equivocarem\n",
    "# txt , variable que té el texte que volem recorrer\n",
    "txt: str    =\"Hola a todossssss\"\n",
    "#reg la expressió regular (r es de raw-crudo)\n",
    "reg: str    =r\"s{2,}\"\n",
    "#pat per compilar, i serà el patro del tipus pattern\n",
    "pat: re.Pattern = re.compile(reg)\n",
    "\n",
    "# 1. Buscar el patrò, troba un iterador, que retorna un iterador sobre el texte.\n",
    "# matches\n",
    "matches: list[re.Match] = list(pat.finditer(txt))\n",
    "display(\"Example 1 regex. txt=Hola a todossssss.\",\"reg=s{2,}\",len(matches))"
   ]
  }
 ],
 "metadata": {
  "kernelspec": {
   "display_name": "bio",
   "language": "python",
   "name": "python3"
  },
  "language_info": {
   "codemirror_mode": {
    "name": "ipython",
    "version": 3
   },
   "file_extension": ".py",
   "mimetype": "text/x-python",
   "name": "python",
   "nbconvert_exporter": "python",
   "pygments_lexer": "ipython3",
   "version": "3.10.6"
  },
  "orig_nbformat": 4,
  "vscode": {
   "interpreter": {
    "hash": "80d9a229293de82ff0a6cdcaeef08119522d819e34b64930a164959170ead25a"
   }
  }
 },
 "nbformat": 4,
 "nbformat_minor": 2
}
