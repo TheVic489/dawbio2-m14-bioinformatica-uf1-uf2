{
 "cells": [
  {
   "cell_type": "markdown",
   "metadata": {},
   "source": [
    "### Categoricals i agrupacions.\n",
    "Es pot marcar els diferents valors d'una de les columnes, del tipus Categories, marcant-la com categories dins la columna, no com a valors. categories documentació oficial"
   ]
  },
  {
   "cell_type": "code",
   "execution_count": 22,
   "metadata": {},
   "outputs": [
    {
     "data": {
      "text/html": [
       "<div>\n",
       "<style scoped>\n",
       "    .dataframe tbody tr th:only-of-type {\n",
       "        vertical-align: middle;\n",
       "    }\n",
       "\n",
       "    .dataframe tbody tr th {\n",
       "        vertical-align: top;\n",
       "    }\n",
       "\n",
       "    .dataframe thead th {\n",
       "        text-align: right;\n",
       "    }\n",
       "</style>\n",
       "<table border=\"1\" class=\"dataframe\">\n",
       "  <thead>\n",
       "    <tr style=\"text-align: right;\">\n",
       "      <th></th>\n",
       "      <th>grade</th>\n",
       "      <th>dual</th>\n",
       "    </tr>\n",
       "  </thead>\n",
       "  <tbody>\n",
       "    <tr>\n",
       "      <th>John</th>\n",
       "      <td>7</td>\n",
       "      <td>False</td>\n",
       "    </tr>\n",
       "    <tr>\n",
       "      <th>Mary</th>\n",
       "      <td>9</td>\n",
       "      <td>True</td>\n",
       "    </tr>\n",
       "    <tr>\n",
       "      <th>Lucy</th>\n",
       "      <td>8</td>\n",
       "      <td>False</td>\n",
       "    </tr>\n",
       "    <tr>\n",
       "      <th>Peter</th>\n",
       "      <td>4</td>\n",
       "      <td>True</td>\n",
       "    </tr>\n",
       "    <tr>\n",
       "      <th>Steven</th>\n",
       "      <td>1</td>\n",
       "      <td>True</td>\n",
       "    </tr>\n",
       "    <tr>\n",
       "      <th>Laura</th>\n",
       "      <td>6</td>\n",
       "      <td>False</td>\n",
       "    </tr>\n",
       "    <tr>\n",
       "      <th>Marti</th>\n",
       "      <td>10</td>\n",
       "      <td>False</td>\n",
       "    </tr>\n",
       "    <tr>\n",
       "      <th>Paula</th>\n",
       "      <td>9</td>\n",
       "      <td>True</td>\n",
       "    </tr>\n",
       "  </tbody>\n",
       "</table>\n",
       "</div>"
      ],
      "text/plain": [
       "        grade   dual\n",
       "John        7  False\n",
       "Mary        9   True\n",
       "Lucy        8  False\n",
       "Peter       4   True\n",
       "Steven      1   True\n",
       "Laura       6  False\n",
       "Marti      10  False\n",
       "Paula       9   True"
      ]
     },
     "execution_count": 22,
     "metadata": {},
     "output_type": "execute_result"
    }
   ],
   "source": [
    "import numpy as np \n",
    "import pandas as pd\n",
    "import copy\n",
    "#np --> numerical panda, es una llibreria per a realitzar càlcul numèric\n",
    "#les notes de dawbio amb series\n",
    "student_list=[\"John\",\"Mary\",\"Lucy\",\"Peter\", \"Steven\", \"Laura\", \"Marti\", \"Paula\"]\n",
    "grades_list = [7,9,8,4,1,6,10,9]\n",
    "wants_dual_list = [False,True,False,True,True,False,False,True]\n",
    "datos: dict[list] = {\"grade\": grades_list,\n",
    "                   \"dual\": wants_dual_list}\n",
    "students_frame = pd.DataFrame(\n",
    "    index=student_list,\n",
    "    data = datos\n",
    ")\n",
    "students_frame"
   ]
  },
  {
   "cell_type": "code",
   "execution_count": 23,
   "metadata": {},
   "outputs": [
    {
     "name": "stdout",
     "output_type": "stream",
     "text": [
      "grade         int64\n",
      "dual           bool\n",
      "cat_grade    object\n",
      "dtype: object\n"
     ]
    }
   ],
   "source": [
    "#create a new column\n",
    "students_frame.loc[:,\"cat_grade\"] = [\"Not\",\"Exc\",\"Not\",\"Insuf.\",\"NP\",\"Bien\",\"Exc\",\"Exc\"]\n",
    "print(students_frame.dtypes)"
   ]
  },
  {
   "cell_type": "code",
   "execution_count": 24,
   "metadata": {},
   "outputs": [
    {
     "name": "stdout",
     "output_type": "stream",
     "text": [
      "grade           int64\n",
      "dual             bool\n",
      "cat_grade    category\n",
      "dtype: object\n"
     ]
    }
   ],
   "source": [
    "students_frame.loc[:,\"cat_grade\"]= students_frame.loc[:,\"cat_grade\"].astype(\"category\")\n",
    "print(students_frame.dtypes)"
   ]
  },
  {
   "cell_type": "code",
   "execution_count": 25,
   "metadata": {},
   "outputs": [
    {
     "data": {
      "text/plain": [
       "John         Not\n",
       "Mary         Exc\n",
       "Lucy         Not\n",
       "Peter     Insuf.\n",
       "Steven        NP\n",
       "Laura       Bien\n",
       "Marti        Exc\n",
       "Paula        Exc\n",
       "Name: cat_grade, dtype: category\n",
       "Categories (5, object): ['Bien', 'Exc', 'Insuf.', 'NP', 'Not']"
      ]
     },
     "execution_count": 25,
     "metadata": {},
     "output_type": "execute_result"
    }
   ],
   "source": [
    "students_frame.loc[:,\"cat_grade\"]"
   ]
  },
  {
   "cell_type": "code",
   "execution_count": 27,
   "metadata": {},
   "outputs": [
    {
     "data": {
      "text/html": [
       "<div>\n",
       "<style scoped>\n",
       "    .dataframe tbody tr th:only-of-type {\n",
       "        vertical-align: middle;\n",
       "    }\n",
       "\n",
       "    .dataframe tbody tr th {\n",
       "        vertical-align: top;\n",
       "    }\n",
       "\n",
       "    .dataframe thead th {\n",
       "        text-align: right;\n",
       "    }\n",
       "</style>\n",
       "<table border=\"1\" class=\"dataframe\">\n",
       "  <thead>\n",
       "    <tr style=\"text-align: right;\">\n",
       "      <th></th>\n",
       "      <th>grade</th>\n",
       "      <th>dual</th>\n",
       "      <th>cat_grade</th>\n",
       "    </tr>\n",
       "  </thead>\n",
       "  <tbody>\n",
       "    <tr>\n",
       "      <th>Steven</th>\n",
       "      <td>1</td>\n",
       "      <td>True</td>\n",
       "      <td>NP</td>\n",
       "    </tr>\n",
       "    <tr>\n",
       "      <th>Peter</th>\n",
       "      <td>4</td>\n",
       "      <td>True</td>\n",
       "      <td>Insuf.</td>\n",
       "    </tr>\n",
       "    <tr>\n",
       "      <th>Laura</th>\n",
       "      <td>6</td>\n",
       "      <td>False</td>\n",
       "      <td>Bien</td>\n",
       "    </tr>\n",
       "    <tr>\n",
       "      <th>Lucy</th>\n",
       "      <td>8</td>\n",
       "      <td>False</td>\n",
       "      <td>Not</td>\n",
       "    </tr>\n",
       "    <tr>\n",
       "      <th>John</th>\n",
       "      <td>7</td>\n",
       "      <td>False</td>\n",
       "      <td>Not</td>\n",
       "    </tr>\n",
       "    <tr>\n",
       "      <th>Marti</th>\n",
       "      <td>10</td>\n",
       "      <td>False</td>\n",
       "      <td>Exc</td>\n",
       "    </tr>\n",
       "    <tr>\n",
       "      <th>Mary</th>\n",
       "      <td>9</td>\n",
       "      <td>True</td>\n",
       "      <td>Exc</td>\n",
       "    </tr>\n",
       "    <tr>\n",
       "      <th>Paula</th>\n",
       "      <td>9</td>\n",
       "      <td>True</td>\n",
       "      <td>Exc</td>\n",
       "    </tr>\n",
       "  </tbody>\n",
       "</table>\n",
       "</div>"
      ],
      "text/plain": [
       "        grade   dual cat_grade\n",
       "Steven      1   True        NP\n",
       "Peter       4   True    Insuf.\n",
       "Laura       6  False      Bien\n",
       "Lucy        8  False       Not\n",
       "John        7  False       Not\n",
       "Marti      10  False       Exc\n",
       "Mary        9   True       Exc\n",
       "Paula       9   True       Exc"
      ]
     },
     "execution_count": 27,
     "metadata": {},
     "output_type": "execute_result"
    }
   ],
   "source": [
    "#reasignar totes les categories \n",
    "#amb reversed ordenem de més alta a més baixa\n",
    "cat_grades: list[str] = [\"Exc\",\"Not\",\"Bien\",\"Sufi\",\"Insuf.\",\"NP\"]\n",
    "students_frame.loc[:,\"cat_grade\"]= students_frame.loc[:,\"cat_grade\"].cat.set_categories(cat_grades)\n",
    "#Order by cat_grade and grade\n",
    "students_frame.sort_values(by=[\"cat_grade\",\"grade\"],ascending=False)"
   ]
  },
  {
   "cell_type": "code",
   "execution_count": null,
   "metadata": {},
   "outputs": [],
   "source": []
  }
 ],
 "metadata": {
  "kernelspec": {
   "display_name": "Python 3.10.6 ('bio')",
   "language": "python",
   "name": "python3"
  },
  "language_info": {
   "codemirror_mode": {
    "name": "ipython",
    "version": 3
   },
   "file_extension": ".py",
   "mimetype": "text/x-python",
   "name": "python",
   "nbconvert_exporter": "python",
   "pygments_lexer": "ipython3",
   "version": "3.10.6"
  },
  "orig_nbformat": 4,
  "vscode": {
   "interpreter": {
    "hash": "80d9a229293de82ff0a6cdcaeef08119522d819e34b64930a164959170ead25a"
   }
  }
 },
 "nbformat": 4,
 "nbformat_minor": 2
}
