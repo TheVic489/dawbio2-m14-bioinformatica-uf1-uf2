{
 "cells": [
  {
   "cell_type": "code",
   "execution_count": 29,
   "metadata": {},
   "outputs": [],
   "source": [
    "import numpy as np\n",
    "import pandas as pd"
   ]
  },
  {
   "cell_type": "markdown",
   "metadata": {},
   "source": [
    "# Tamany de la mostra\n",
    "\n",
    "Si llenço un dau 10 cops només, no tinc suficient informació per saber si el dau està trucat.\n",
    "\n",
    "Però si el llenço 10.000 cops, i cada cara no surt aproximadament el mateix número de cops, llavors sí que puc dubtar del dau.\n",
    "\n",
    "Conclusió: El tamany de la mostra IMPORTA."
   ]
  },
  {
   "cell_type": "code",
   "execution_count": 30,
   "metadata": {},
   "outputs": [
    {
     "name": "stdout",
     "output_type": "stream",
     "text": [
      "[ 7  3  8  4  3  8  7  7 10  4  9  4  6  6  3  2  3  7  7 10  8  3 10 10\n",
      "  8  7  2  1  3  5  1  9  5  7  3  4  2  8  8  3  8  1  4  2  8  4  5  5\n",
      "  5  3  6  9  5  2  1  2  1  1  2  6  9  9  7  7  4 10  7  8  8  9  8 10\n",
      "  6  6  3 10  6  5  4  3  7  5  6  7  9  4  7 10  5  3  3  4  7  3  9  4\n",
      "  1  1  1  7]\n",
      "<class 'numpy.ndarray'>\n",
      "<class 'numpy.int64'>\n"
     ]
    }
   ],
   "source": [
    "# https://numpy.org/doc/stable/reference/random/index.html\n",
    "# Valores Pseudo-aleatorios: Valores determistas cuyas propiedades\n",
    "# se parecen a valores realmente aleatorios.\n",
    "\n",
    "# RNG = Random Number Generator\n",
    "rng = np.random.default_rng(12345)\n",
    "rints = rng.integers(low=1, high=10, endpoint=True, size=100)\n",
    "print(rints)\n",
    "print(type(rints))\n",
    "print(type(rints[0]))\n"
   ]
  },
  {
   "cell_type": "markdown",
   "metadata": {},
   "source": [
    "# Estadística descriptiva\n",
    "\n",
    "(Dades Covid19: https://dadescovid.cat/)"
   ]
  },
  {
   "cell_type": "code",
   "execution_count": 42,
   "metadata": {},
   "outputs": [
    {
     "data": {
      "text/html": [
       "<div>\n",
       "<style scoped>\n",
       "    .dataframe tbody tr th:only-of-type {\n",
       "        vertical-align: middle;\n",
       "    }\n",
       "\n",
       "    .dataframe tbody tr th {\n",
       "        vertical-align: top;\n",
       "    }\n",
       "\n",
       "    .dataframe thead th {\n",
       "        text-align: right;\n",
       "    }\n",
       "</style>\n",
       "<table border=\"1\" class=\"dataframe\">\n",
       "  <thead>\n",
       "    <tr style=\"text-align: right;\">\n",
       "      <th></th>\n",
       "      <th>INGRESSOS_TOTAL</th>\n",
       "      <th>INGRESSOS_CRITIC</th>\n",
       "      <th>INGRESSATS_TOTAL</th>\n",
       "      <th>INGRESSATS_CRITIC</th>\n",
       "      <th>EXITUS</th>\n",
       "      <th>CASOS_PCR</th>\n",
       "      <th>CASOS_TAR</th>\n",
       "      <th>POSITIVITAT_PCR_NUM</th>\n",
       "      <th>POSITIVITAT_TAR_NUM</th>\n",
       "      <th>POSITIVITAT_PCR_DEN</th>\n",
       "      <th>POSITIVITAT_TAR_DEN</th>\n",
       "    </tr>\n",
       "  </thead>\n",
       "  <tbody>\n",
       "    <tr>\n",
       "      <th>0</th>\n",
       "      <td>0</td>\n",
       "      <td>0</td>\n",
       "      <td>0</td>\n",
       "      <td>0</td>\n",
       "      <td>0</td>\n",
       "      <td>0</td>\n",
       "      <td>9</td>\n",
       "      <td>0</td>\n",
       "      <td>5</td>\n",
       "      <td>0</td>\n",
       "      <td>7</td>\n",
       "    </tr>\n",
       "    <tr>\n",
       "      <th>1</th>\n",
       "      <td>0</td>\n",
       "      <td>0</td>\n",
       "      <td>0</td>\n",
       "      <td>0</td>\n",
       "      <td>0</td>\n",
       "      <td>0</td>\n",
       "      <td>1</td>\n",
       "      <td>0</td>\n",
       "      <td>0</td>\n",
       "      <td>0</td>\n",
       "      <td>2</td>\n",
       "    </tr>\n",
       "    <tr>\n",
       "      <th>2</th>\n",
       "      <td>0</td>\n",
       "      <td>0</td>\n",
       "      <td>1</td>\n",
       "      <td>0</td>\n",
       "      <td>0</td>\n",
       "      <td>0</td>\n",
       "      <td>3</td>\n",
       "      <td>0</td>\n",
       "      <td>1</td>\n",
       "      <td>0</td>\n",
       "      <td>1</td>\n",
       "    </tr>\n",
       "    <tr>\n",
       "      <th>3</th>\n",
       "      <td>0</td>\n",
       "      <td>0</td>\n",
       "      <td>1</td>\n",
       "      <td>0</td>\n",
       "      <td>0</td>\n",
       "      <td>0</td>\n",
       "      <td>6</td>\n",
       "      <td>0</td>\n",
       "      <td>1</td>\n",
       "      <td>0</td>\n",
       "      <td>2</td>\n",
       "    </tr>\n",
       "    <tr>\n",
       "      <th>4</th>\n",
       "      <td>0</td>\n",
       "      <td>0</td>\n",
       "      <td>0</td>\n",
       "      <td>0</td>\n",
       "      <td>0</td>\n",
       "      <td>0</td>\n",
       "      <td>8</td>\n",
       "      <td>0</td>\n",
       "      <td>3</td>\n",
       "      <td>0</td>\n",
       "      <td>7</td>\n",
       "    </tr>\n",
       "    <tr>\n",
       "      <th>5</th>\n",
       "      <td>0</td>\n",
       "      <td>0</td>\n",
       "      <td>0</td>\n",
       "      <td>0</td>\n",
       "      <td>0</td>\n",
       "      <td>0</td>\n",
       "      <td>8</td>\n",
       "      <td>0</td>\n",
       "      <td>3</td>\n",
       "      <td>0</td>\n",
       "      <td>4</td>\n",
       "    </tr>\n",
       "  </tbody>\n",
       "</table>\n",
       "</div>"
      ],
      "text/plain": [
       "   INGRESSOS_TOTAL  INGRESSOS_CRITIC  INGRESSATS_TOTAL  INGRESSATS_CRITIC  \\\n",
       "0                0                 0                 0                  0   \n",
       "1                0                 0                 0                  0   \n",
       "2                0                 0                 1                  0   \n",
       "3                0                 0                 1                  0   \n",
       "4                0                 0                 0                  0   \n",
       "5                0                 0                 0                  0   \n",
       "\n",
       "   EXITUS  CASOS_PCR  CASOS_TAR  POSITIVITAT_PCR_NUM  POSITIVITAT_TAR_NUM  \\\n",
       "0       0          0          9                    0                    5   \n",
       "1       0          0          1                    0                    0   \n",
       "2       0          0          3                    0                    1   \n",
       "3       0          0          6                    0                    1   \n",
       "4       0          0          8                    0                    3   \n",
       "5       0          0          8                    0                    3   \n",
       "\n",
       "   POSITIVITAT_PCR_DEN  POSITIVITAT_TAR_DEN  \n",
       "0                    0                    7  \n",
       "1                    0                    2  \n",
       "2                    0                    1  \n",
       "3                    0                    2  \n",
       "4                    0                    7  \n",
       "5                    0                    4  "
      ]
     },
     "execution_count": 42,
     "metadata": {},
     "output_type": "execute_result"
    }
   ],
   "source": [
    "# Read data\n",
    "covid_data: pd.DataFrame = pd.read_csv(\"2022-01-17-covid-dades-aga.csv\", sep=';')\n",
    "\n",
    "# Check columns\n",
    "# covid_data.columns\n",
    "# cols = ['INGRESSOS_TOTAL', 'INGRESSOS_CRITIC','INGRESSATS_TOTAL', 'INGRESSATS_CRITIC', 'EXITUS', 'CASOS_PCR', 'CASOS_TAR', 'POSITIVITAT_PCR_NUM', 'POSITIVITAT_TAR_NUM', 'POSITIVITAT_PCR_DEN', 'POSITIVITAT_TAR_DEN']\n",
    "\n",
    "# Examine a subset of data\n",
    "covid_data.loc[0:5, 'INGRESSOS_TOTAL':'POSITIVITAT_TAR_DEN']"
   ]
  },
  {
   "cell_type": "code",
   "execution_count": 49,
   "metadata": {},
   "outputs": [
    {
     "name": "stdout",
     "output_type": "stream",
     "text": [
      "            TAR_POSITIUS\n",
      "DATA                    \n",
      "2021-01-01             9\n",
      "2021-01-02            19\n",
      "2021-01-03            28\n",
      "2021-01-04            92\n",
      "2021-01-05            90\n"
     ]
    },
    {
     "data": {
      "text/plain": [
       "<AxesSubplot:xlabel='DATA'>"
      ]
     },
     "execution_count": 49,
     "metadata": {},
     "output_type": "execute_result"
    },
    {
     "data": {
      "image/png": "[encoded data removed]",
      "text/plain": [
       "<Figure size 640x480 with 1 Axes>"
      ]
     },
     "metadata": {},
     "output_type": "display_data"
    }
   ],
   "source": [
    "def get_year(epi_week: object) -> int:\n",
    "\n",
    "    epi_week_str: str = str(epi_week)\n",
    "    year_str:     str = epi_week_str[0:4]\n",
    "    year_int:     int = int(year_str)\n",
    "\n",
    "    return year_int\n",
    "\n",
    "## replace L'HOSP ... per LHOSP\n",
    "covid_data.loc[:,'NOM'] = covid_data.loc[:,'NOM'].str.replace(\"L'HOSP\",\"LHOSP\")\n",
    "\n",
    "## Fixing step 4. Create Year colunm, assigning the first 4 characters of epi_week field.\n",
    "covid_data.loc[:,'ANY'] = covid_data.loc[:,'DATA'].map(get_year)\n",
    "\n",
    "lh_df1: pd.DataFrame = (covid_data.query(\"NOM == 'LHOSPITALET SUD I EL PRAT DE LLOBREGAT' \").query(\"ANY > 2020\")\n",
    "                                        .loc[:, ['DATA', 'POSITIVITAT_TAR_NUM']]\n",
    "                                        .groupby('DATA')\n",
    "                                        .sum()\n",
    "                                        .rename(columns={\"POSITIVITAT_TAR_NUM\": \"TAR_POSITIUS\"})\n",
    ")\n",
    "print(lh_df1.head())\n",
    "lh_df1.plot()"
   ]
  },
  {
   "cell_type": "code",
   "execution_count": 50,
   "metadata": {},
   "outputs": [
    {
     "data": {
      "text/plain": [
       "DATA\n",
       "2021-01-01      9\n",
       "2021-01-02     19\n",
       "2021-01-03     28\n",
       "2021-01-04     92\n",
       "2021-01-05     90\n",
       "             ... \n",
       "2022-01-12    349\n",
       "2022-01-13    431\n",
       "2022-01-14    428\n",
       "2022-01-15    266\n",
       "2022-01-16     21\n",
       "Name: TAR_POSITIUS, Length: 381, dtype: int64"
      ]
     },
     "execution_count": 50,
     "metadata": {},
     "output_type": "execute_result"
    }
   ],
   "source": [
    "# Extract the data as a column. Needed for the next functions.\n",
    "tar_positius: pd.Series = lh_df1.loc[:, 'TAR_POSITIUS']\n",
    "tar_positius"
   ]
  },
  {
   "cell_type": "code",
   "execution_count": 51,
   "metadata": {},
   "outputs": [
    {
     "data": {
      "text/plain": [
       "45.94750656167979"
      ]
     },
     "execution_count": 51,
     "metadata": {},
     "output_type": "execute_result"
    }
   ],
   "source": [
    "# Mean\n",
    "# Make sure input is a series.\n",
    "# If input is a dataframe, it will return a series, not a float.\n",
    "\n",
    "def get_mean(ser: pd.Series) -> float:\n",
    "    return sum(ser) / len(ser)\n",
    "\n",
    "# tar_positius.mean()\n",
    "get_mean(tar_positius)"
   ]
  },
  {
   "cell_type": "code",
   "execution_count": 35,
   "metadata": {},
   "outputs": [
    {
     "data": {
      "text/plain": [
       "<AxesSubplot:ylabel='Frequency'>"
      ]
     },
     "execution_count": 35,
     "metadata": {},
     "output_type": "execute_result"
    },
    {
     "data": {
      "image/png": "[encoded data removed]",
      "text/plain": [
       "<Figure size 640x480 with 1 Axes>"
      ]
     },
     "metadata": {},
     "output_type": "display_data"
    }
   ],
   "source": [
    "# Mode\n",
    "# Mode = The value with the highest frequency.\n",
    "# get_mode() returns the mode and its frequency.\n",
    "\n",
    "def get_mode(ser: pd.Series) -> tuple[int, int]:\n",
    "\n",
    "    # Make counter dictionary.\n",
    "    # Keys:   Number of positives per day (without repeats)\n",
    "    # Values: Frequencies of that number (zero initially)\n",
    "    pos_freq_dict: dict[int, int] = dict.fromkeys(sorted(set(ser)), 0)\n",
    "\n",
    "    # Calculate frequencies\n",
    "    for num_pos in ser:\n",
    "        pos_freq_dict[num_pos] += 1\n",
    "\n",
    "    # Sort dictionary by values (frequencies)\n",
    "    pos_freq_tuples:        list[tuple[int, int]] = pos_freq_dict.items()\n",
    "    sorted_pos_freq_tuples: list[tuple[int, int]] = sorted(pos_freq_tuples,\n",
    "                                                           key=lambda item: item[1],\n",
    "                                                           reverse=True)\n",
    "    mode_freq:              tuple[int, int]       = sorted_pos_freq_tuples[0]\n",
    "\n",
    "    return mode_freq\n",
    "\n",
    "\n",
    "# Mode = 0\n",
    "# Frequency = 274\n",
    "# tar_positius.mode()\n",
    "get_mode(tar_positius)\n",
    "\n",
    "# Using Panda's .value_counts()\n",
    "freqs: pd.Series = tar_positius.value_counts()\n",
    "mode:  int       = freqs.index[0]\n",
    "freqs[mode]\n",
    "\n",
    "\n",
    "# Histogram uses frequencies and bins.\n",
    "# You can see it is not a normal distribution (normal bell)\n",
    "tar_positius.plot.hist()\n",
    "\n"
   ]
  },
  {
   "cell_type": "code",
   "execution_count": 36,
   "metadata": {},
   "outputs": [
    {
     "data": {
      "text/plain": [
       "<AxesSubplot:xlabel='DATA'>"
      ]
     },
     "execution_count": 36,
     "metadata": {},
     "output_type": "execute_result"
    },
    {
     "data": {
      "image/png": "[encoded data removed]",
      "text/plain": [
       "<Figure size 640x480 with 1 Axes>"
      ]
     },
     "metadata": {},
     "output_type": "display_data"
    }
   ],
   "source": [
    "# Median\n",
    "# If the length of ser is even, return the mean of the two central values.\n",
    "# ~ Performs the bitwise negation. It's a Python trick.\n",
    "\n",
    "def get_median(ser: pd.Series) -> float:\n",
    "\n",
    "    sorted_data:  list[int] = sorted(ser)\n",
    "    length:       int       = len(sorted_data)\n",
    "    middle_index: int       = length // 2\n",
    "\n",
    "    middle_value:          int   = sorted_data[middle_index]\n",
    "    middle_value_from_end: int   = sorted_data[~middle_index]\n",
    "    middle_mean:           float = (middle_value + middle_value_from_end) / 2\n",
    "\n",
    "    return middle_mean\n",
    "\n",
    "# tar_positius.sort_values()\n",
    "tar_positius.sort_values().plot()\n",
    "# tar_positius.median()\n",
    "# get_median(tar_positius)"
   ]
  },
  {
   "cell_type": "code",
   "execution_count": 52,
   "metadata": {},
   "outputs": [
    {
     "data": {
      "text/plain": [
       "<AxesSubplot:>"
      ]
     },
     "execution_count": 52,
     "metadata": {},
     "output_type": "execute_result"
    },
    {
     "data": {
      "image/png": "[encoded data removed]",
      "text/plain": [
       "<Figure size 640x480 with 1 Axes>"
      ]
     },
     "metadata": {},
     "output_type": "display_data"
    }
   ],
   "source": [
    "# Box Plot\n",
    "# Useful for visualizing outliers.\n",
    "# We cannot always remove outliers. Always think about their cause.\n",
    "# https://statisticsbyjim.com/basics/remove-outliers/\n",
    "\n",
    "tar_positius.plot.box()"
   ]
  },
  {
   "cell_type": "code",
   "execution_count": 38,
   "metadata": {},
   "outputs": [
    {
     "data": {
      "text/plain": [
       "[302.0524934383202,\n",
       " 80.05249343832021,\n",
       " 63.05249343832021,\n",
       " 392.0524934383202,\n",
       " 395.0524934383202,\n",
       " 303.0524934383202,\n",
       " 385.0524934383202,\n",
       " 382.0524934383202,\n",
       " 220.0524934383202,\n",
       " 24.947506561679788]"
      ]
     },
     "execution_count": 38,
     "metadata": {},
     "output_type": "execute_result"
    }
   ],
   "source": [
    "# Desviación respecto a la media (v1)\n",
    "\n",
    "mean: float       = tar_positius.mean()\n",
    "devs: list[float] = []\n",
    "\n",
    "for num_pos in tar_positius:\n",
    "    devs.append(abs(num_pos - mean))\n",
    "\n",
    "# Last ten deviations\n",
    "devs[-10:]"
   ]
  },
  {
   "cell_type": "code",
   "execution_count": 39,
   "metadata": {},
   "outputs": [
    {
     "data": {
      "text/plain": [
       "DATA\n",
       "2021-01-01     36.947507\n",
       "2021-01-02     26.947507\n",
       "2021-01-03     17.947507\n",
       "2021-01-04     46.052493\n",
       "2021-01-05     44.052493\n",
       "                 ...    \n",
       "2022-01-12    303.052493\n",
       "2022-01-13    385.052493\n",
       "2022-01-14    382.052493\n",
       "2022-01-15    220.052493\n",
       "2022-01-16     24.947507\n",
       "Name: TAR_POSITIUS, Length: 381, dtype: float64"
      ]
     },
     "execution_count": 39,
     "metadata": {},
     "output_type": "execute_result"
    }
   ],
   "source": [
    "# Desviación respecto a la media (v2 programación vectorial)\n",
    "# Programación vectorial (array,list,vectores)\n",
    "mean: float     = tar_positius.mean()\n",
    "devs: pd.Series = (tar_positius - mean).abs()\n",
    "\n",
    "devs\n",
    "# devs.plot()"
   ]
  },
  {
   "cell_type": "markdown",
   "metadata": {},
   "source": [
    "#### Desviación típica"
   ]
  },
  {
   "cell_type": "code",
   "execution_count": 40,
   "metadata": {},
   "outputs": [
    {
     "name": "stdout",
     "output_type": "stream",
     "text": [
      "87.17391796879134\n"
     ]
    }
   ],
   "source": [
    "def typical_desviation(ser: pd.Series) -> float:\n",
    "\n",
    "    suma:       int     =   ser.pow(2).sum()\n",
    "    division:   float   =   suma/(devs.count() -1) #en estadística da mas similitud div por n-1\n",
    "    desviacion: float   =   np.sqrt(division)\n",
    "    return desviacion\n",
    "\n",
    "\n",
    "result: float = typical_desviation(devs)\n",
    "#porque puede variar un poco, por que en tecnica estadistica dof\n",
    "print(result)"
   ]
  },
  {
   "cell_type": "code",
   "execution_count": 41,
   "metadata": {},
   "outputs": [
    {
     "name": "stdout",
     "output_type": "stream",
     "text": [
      "87.05944133638674\n",
      "87.17391796879134\n"
     ]
    }
   ],
   "source": [
    "print(np.std(tar_positius))\n",
    "print(tar_positius.std())"
   ]
  }
 ],
 "metadata": {
  "kernelspec": {
   "display_name": "Python 3.10.6 ('bio')",
   "language": "python",
   "name": "python3"
  },
  "language_info": {
   "codemirror_mode": {
    "name": "ipython",
    "version": 3
   },
   "file_extension": ".py",
   "mimetype": "text/x-python",
   "name": "python",
   "nbconvert_exporter": "python",
   "pygments_lexer": "ipython3",
   "version": "3.10.6"
  },
  "orig_nbformat": 4,
  "vscode": {
   "interpreter": {
    "hash": "80d9a229293de82ff0a6cdcaeef08119522d819e34b64930a164959170ead25a"
   }
  }
 },
 "nbformat": 4,
 "nbformat_minor": 2
}
