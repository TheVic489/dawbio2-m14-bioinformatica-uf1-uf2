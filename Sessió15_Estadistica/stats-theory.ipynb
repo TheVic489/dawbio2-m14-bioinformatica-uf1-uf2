{
 "cells": [
  {
   "cell_type": "markdown",
   "metadata": {},
   "source": [
    "# Introducción a la Estadística (muy breve)"
   ]
  },
  {
   "cell_type": "markdown",
   "metadata": {},
   "source": [
    "## Referencias\n",
    "\n",
    "- [Khan Academy: Statistics](https://es.khanacademy.org/math/statistics-probability)\n",
    "- [Plotting with Pandas](https://realpython.com/pandas-plot-python/)\n",
    "- [Interactive visualizations with Bokeh](https://realpython.com/python-data-visualization-bokeh/)\n",
    "- [Datos Covid en Catalunya](https://dadescovid.cat/descarregues)\n",
    "\n",
    "## Definiciones\n",
    "\n",
    "- Informática: Es la ciencia que estudia cómo procesar la INFORmación automMÁTICAmente.\n",
    "\n",
    "### Definiciones relacionadas con datos.\n",
    "- Información: Todo aquello que nos interese.\n",
    "- Dato: Unidad de información.\n",
    "\n",
    "### Definiciones relacionadas con predicciones.\n",
    "\n",
    "Aleatoriedad:\n",
    "- Se usa para simular la falta aparente de predecibilidad de los eventos: altura, peso, temperatura, enfermedades en un ser vivo ... \n",
    "- El resultado de un suceso aleatorio sólo se puede conocer DESPUÉS de que ocurra el suceso.\n",
    "\n",
    "Probabilidad:\n",
    "- Medida de la certeza de que un suceso ocurra.\n",
    "- Es un número real entre 0 y 1 SIEMPRE.\n",
    "- 0 significa que el suceso es imposible.\n",
    "- 1 significa que el suceso ocurrirá seguro.\n"
   ]
  },
  {
   "cell_type": "markdown",
   "metadata": {},
   "source": [
    "## Definición de Estadística\n",
    "\n",
    "La Estadística es una rama de las matemáticas.\n",
    "Estudia dos cosas:\n",
    "1. La variabilidad de los DATOS.\n",
    "2. Los procesos aleatorios que generan estos datos, es decir la PROBABILIDAD.\n",
    "\n",
    "Bioestadística: Estadística aplicada a las ciencias de la vida.\n",
    "\n",
    "En europa por el 1663, surgen los primeros escritos de estadística.\n",
    "Estos escritos se refieren a la \"ciencia del estado\" porque tratan de decidir la política del estado en base a datos económicos y demográficos.\n",
    "\n",
    "![lies-stats](lies-stats.jpg \"Lies\")"
   ]
  },
  {
   "cell_type": "markdown",
   "metadata": {},
   "source": [
    "# La ramas de la Estadística\n",
    "\n",
    "### Estadística descriptiva (se centra en los DATOS)\n",
    "Un resumen de los datos que tenemos. \n",
    "\n",
    "### Estadística inferencial (se centra en las probabilidades)\n",
    "Extrapolar una información que tengo de unas muestras a toda la población.\n",
    "\n",
    "*Va bien para predecir las propabilidades de que ocurra un succeso: por ejemplo: que un virus se expanda o se elimine.*\n",
    "\n",
    "- "
   ]
  },
  {
   "cell_type": "markdown",
   "metadata": {},
   "source": [
    "# Pipeline de análisis de datos\n",
    "\n",
    "1. Importar los datos\n",
    "2. Ponerlos en formato tidy\n",
    "3. Caja grande: Visualizar -> Tranformar -> Modelar   [EDA]\n",
    "4. Comunicar\n",
    "\n",
    "EDA = Exploratory Data Analysis. Análisis exploratorio de datos.\n",
    "En EDA se trabajan las dos ramas de la estadística (descriptiva + inferencial)\n"
   ]
  },
  {
   "cell_type": "markdown",
   "metadata": {},
   "source": [
    "# Relación entre datos y probabilidad\n",
    "\n",
    "- Si tenemos datos observados -> Podemos intentar deducir las probablidades que tenían esos sucesos antes de ocurrir.\n",
    "- Si tenemos las probablidades -> Podemos intentar predecir los sucesos que veremos en un futuro.\n",
    "\n"
   ]
  },
  {
   "cell_type": "markdown",
   "metadata": {},
   "source": [
    "# Definiciones\n",
    "\n",
    "- Población: El conjunto de elementos o sucesos que queremos estudiar.\n",
    "- Muestra: El subconjunto de la población que podemos observar.\n",
    "- Variable: Característica de la muestra que podemos medir.\n",
    "\n"
   ]
  },
  {
   "cell_type": "markdown",
   "metadata": {},
   "source": [
    "# Tipos de variables\n",
    "\n",
    "Hay dos tipos.\n",
    "\n",
    "1. Variables cuantitativas: Se describen con números.\n",
    "  - Contínuas: Hay un número infinito de valores. Ejemplo: Peso, altura.\n",
    "  - Discretas: Hay un número finito (normalmente pocos) de valores. Ej: Número de hijos.\n",
    "\n",
    "2. Variables cualitativas: Se describen con texto.\n",
    "  - Ordinales: Tienen un orden implícito. Ej: Excelente > Notable > Bien > Suf\n",
    "  - Nominales: No tienen un orden. Cáncer, Covid19, Sida, Ébola; Sí, No, No Sabe. A+, A-, AB+, ...\n",
    "\n"
   ]
  },
  {
   "cell_type": "markdown",
   "metadata": {},
   "source": [
    "# Frecuencias\n",
    "\n",
    "El valor de una variable se le puede llamar también \"frecuencia\".\n",
    "\n",
    "- Frecuencia absoluta: El valor absoluto.\n",
    "- Frecuencia relativa: El valor dividido por el tamaño de la muestra.\n",
    "\n"
   ]
  },
  {
   "cell_type": "markdown",
   "metadata": {},
   "source": [
    "## Estadística descriptiva: Medidas de Tendencia Central\n",
    "\n",
    "En *[estadística descriptiva](https://es.wikipedia.org/wiki/Estad%C3%ADstica_descriptiva)* se utilizan distintas medidas para intentar describir la tendencia central de nuestros datos.\n",
    "\n",
    "Los más simples son los siguientes. Se recomienda implementarlos usando [Python, Pandas y programación vectorial](https://en.wikipedia.org/wiki/Array_programming).\n",
    "\n",
    "* **Media**: La [media aritmética o promedio](https://es.wikipedia.org/wiki/Media_aritm%C3%A9tica) es el valor obtenido al sumar todos los *[datos](https://es.wikipedia.org/wiki/Dato)* y dividir el resultado entre el número total elementos.\n",
    "En inglés se llama **MEAN** (Pandas, Numpy) o **AVERAGE**  \n",
    "\n",
    "* **Media Ponderada**: La [media ponderada](https://es.wikipedia.org/wiki/Media_ponderada) nos interesa cuando algunos de los datos tienen más peso dentro del valor de la media que otros. Por ejemplo, al calcular las notas finales de un módulo, en el que la Práctica Pt1 cuenta un 25%, la Pt2 vale un 40% y el examen cuenta el 35% restante. \n",
    "\n",
    "* **Moda**: La <a href=\"https://es.wikipedia.org/wiki/Moda_(estad%C3%ADstica)\">moda</a> es el valor que tiene mayor frecuencia absoluta. Se representa con $M_0$. Ver también [Histogramas](https://es.khanacademy.org/math/cc-sixth-grade-math/cc-6th-data-statistics/histograms/v/histograms-intro).\n",
    "\n",
    "* **Mediana**: La <a href=\"https://es.wikipedia.org/wiki/Mediana_(estad%C3%ADstica)\">mediana</a> es el valor que ocupa el lugar central de todos los datos cuando éstos están ordenados de menor a mayor. Se representa con $\\widetilde{x}$. Recomendable hacer la gráfica de todas las observaciones ordenadas.\n",
    "En inglés se llama **median**.\n"
   ]
  },
  {
   "cell_type": "markdown",
   "metadata": {},
   "source": [
    "## Estadística descriptiva: Medidas de Variabilidad\n",
    "\n",
    "Para complementar las medidas de tendencia central, se usan las medidas de variabilidad, que describen cómo varían los datos respecto a su centro.\n",
    "\n",
    "Abajo se presentan varios y se vuelve a definir la media, esta vez con su fórmula matemática. Se recomienda implementar las siguientes fórmulas usando [Python, Pandas y programación vectorial](https://en.wikipedia.org/wiki/Array_programming).\n",
    "\n",
    "* **Rango**: El rango (range en inglés) es la diferencia entre la observación más alta (máximo) y la más baja (mínimo).\n",
    "\n",
    "\n",
    "* **Media aritmética**: La [media aritmética](https://es.wikipedia.org/wiki/Media_aritm%C3%A9tica) es el valor obtenido al sumar todos los *[datos](https://es.wikipedia.org/wiki/Dato)* y dividir el resultado entre el número total elementos. Se suele representar con la letra griega $\\mu$. Si tenemos una [muestra](https://es.wikipedia.org/wiki/Muestra_estad%C3%ADstica) de $n$ valores, $x_i$, la *media aritmética*, $\\mu$, es la suma de los valores divididos por el numero de elementos; en otras palabras:\n",
    "$$\\mu = \\frac{1}{n} \\sum_{i}x_i$$\n",
    "\n",
    "En inglés se dice **mean**. \n",
    "\n",
    "* **Desviación respecto a la media**: La desviación respecto a la media es la diferencia en valor absoluto entre cada valor de la variable estadística y la media aritmética.\n",
    "$$D_i = |x_i - \\mu|$$\n",
    "\n",
    "\n",
    "* **Varianza**: La [varianza](https://es.wikipedia.org/wiki/Varianza) es la media aritmética del cuadrado de las desviaciones respecto a la media de una distribución estadística. La varianza intenta describir la dispersión de los *[datos](https://es.wikipedia.org/wiki/Dato)*. Se representa como $\\sigma^2$. \n",
    "$$\\sigma^2 = \\frac{\\sum\\limits_{i=1}^n(x_i - \\mu)^2}{n} $$\n",
    "\n",
    "En resumen, la varianza sería la media de las desviaciones al cuadrado\n",
    "\n",
    "* **Desviación típica**: La [desviación típica](https://es.wikipedia.org/wiki/Desviaci%C3%B3n_t%C3%ADpica) es la raíz cuadrada de la varianza. Se representa con la letra griega $\\sigma$.\n",
    "$$\\sigma = \\sqrt{\\frac{\\sum\\limits_{i=1}^n(x_i - \\mu)^2}{n}} $$\n",
    "\n",
    "En inglés se llama Standard Desviation, con el acrónimo **std**"
   ]
  },
  {
   "cell_type": "markdown",
   "metadata": {},
   "source": [
    "## Estadística descriptiva: Boxplots\n",
    "\n",
    "Otros descriptores complementan a los descriptores presentados arriba.\n",
    "\n",
    "* **Cuantil**: Los [cuantiles](https://es.wikipedia.org/wiki/Cuantil) son puntos tomados a intervalos regulares de la función de distribución de una variable aleatoria. Las muestras se ordenan según sus valores de menor a mayor, y el cuantil es el valor en ese punto. \n",
    "\n",
    "Si el punto se toma en tanto por ciento de las observaciones, se llaman percentil. Si las observaciones se dividen en cuatro cuartos, las tres divisiones se llaman **cuartiles** (Q1=25%, Q2=50%, Q3=75%). Q2 es la Mediana.\n",
    "\n",
    "![Cuantil](cuantil.jpg \"Cuantil\")\n",
    "\n",
    "El rango intercuartilico es **RI = Q3 − Q1.**\n",
    "\n",
    "* **Valor atípico**: Un [valor atípico (outlier)](https://en.wikipedia.org/wiki/Outlier) es una observación que se aleja demasiado de la moda; esta muy lejos de la tendencia principal del resto de los datos. [Siempre hay que considerar su causa.](https://statisticsbyjim.com/basics/remove-outliers/) \n",
    "Si son causados por errores en la lectura de los datos o medidas inusuales se borran o se substituyen por una medida como la media, pero si no hay que considerarlos. \n",
    "\n",
    "* **Boxplot**: Un [boxplot](https://towardsdatascience.com/understanding-boxplots-5e2df7bcbd51) es una gráfica que muestra varios descriptores a la vez: Los tres cuartiles, el \"mínimo\" y \"máximo\" calculados y los outliers. [Son usados en muchos ámbitos.](https://www.phoronix.com/scan.php?page=article&item=vulkan-rt-aug21&num=4)\n"
   ]
  },
  {
   "cell_type": "markdown",
   "metadata": {},
   "source": [
    "\n",
    "## Estadística descriptiva: Scatter Plots and Regression Lines.\n",
    "\n",
    "Las nubes de puntos (scatter plots) y las rectas de regresión que creamos uniendo los puntos\n",
    "(regresion lines) sirven para comprobar si entre 2 variables hay una correlación o no.\n",
    "\n",
    "#### Y para que nos sirven ? \n",
    "\n",
    "Por ejemplo, para saber si hay relación entre:\n",
    "- La renta de la población i y la ciudad y barrio en el que vive, o la renta y el nivel de estudios.\n",
    "- https://www.elcritic.cat/dades/la-catalunya-fracturada-tres-mapes-de-la-desigualtat-entre-barris-que-tindignaran-113993\n",
    "- La densidad de población de una ciudad y el porcentaje de zonas verdes:\n",
    "- https://www.elcritic.cat/dades/poques-zones-verdes-i-alta-densitat-no-es-el-mateix-confinar-se-a-hospitalet-que-a-sant-cugat-73423\n",
    " \n",
    "\n",
    "### Para generar gráficos interactivos como este sin pagar recomendamos:\n",
    "- [plot.ly en Python](https://plotly.com/python/)\n",
    "- [d3js en Javascript] https://d3js.org/\n",
    "\n",
    "\n",
    "### Exemple pràctic. Demostra amb un gràfic si hi ha col·lapse climàtic en una ciutat.\n",
    "\n",
    "En aquest informe es fa recta de regressió de les dades de temperatures dels últims anys a la ciutat de Londres.\n",
    "- https://towardsdatascience.com/regression-plots-with-pandas-and-numpy-faf2edbfad4f?gi=6b8c6ae7dc5\n",
    "\n",
    "### Exercici. Reprodueix el mateix exemple de Londres amb les dades de Barcelona, usant Pandas i llibreries.\n",
    "\n",
    "https://opendata-ajuntament.barcelona.cat/data/ca/dataset/temperatures-hist-bcn \n"
   ]
  },
  {
   "cell_type": "markdown",
   "metadata": {},
   "source": []
  },
  {
   "cell_type": "markdown",
   "metadata": {},
   "source": [
    "### Estadística inferencial (se centra en las probabilidades)\n",
    "Extrapolar una información que tengo de unas muestras a toda la población.\n",
    "\n",
    "*Va bien para predecir las propabilidades de que ocurra un succeso: por ejemplo: que un virus se expanda o se elimine.*\n",
    "\n",
    "Una de las distribuciones teóricas mejor estudiadas en los textos de bioestadística y más utilizada en la práctica es la <strong>distribución normal, también llamada distribución gaussiana. Su importancia se debe fundamentalmente a la frecuencia con la que distintas variables asociadas a fenómenos naturales y cotidianos siguen, aproximadamente, esta distribución. Caracteres morfológicos (como la talla o el peso) y/o genéticos.</strong> Son ejemplos de variables de las que frecuentemente se asume que siguen una distribución normal.\n",
    "\n",
    "<p> La segunda distribución más comun es la <strong>distribución de datos binomial; que suele darse al obtener muestras del clima (temperaturas, lluvias...) </strong>y también en eventos donde interviene el azar (la aletoriedad): probabilidad de obtener una cara de un dado, una moneda ... En algunas ocasiones, se pueden hacer cálculos para aproximar la distribución binomial hacia la normal. </p>\n",
    "\n",
    "La distribución normal tiene propiedades muy interesantes que sirven para predecir probabilidades:\n",
    "- https://www.fisterra.com/formacion/metodologia-investigacion/la-distribucion-normal/\n",
    "\n",
    "![campanadegauss.png](campanadegauss.png \"Gauss\")\n",
    "\n",
    "1. Es una distribución simétrica respecto a la media μ.\n",
    "2. La media y la mediana son iguales a la media (letra mu) μ\n",
    "3. En el intervalo μ - 1σ y μ + 1σ hay el 68.26% de los datos. σ és la desviación estándar (std).\n",
    "4. En el intervalo μ - 2σ y μ + 2σ se encuentran el 95.44 de los datos.\n",
    "5. En el intervalo μ - 3σ y μ + 3σ se encuentran el encuentran el 99.73 de los datos.\n",
    "\n",
    "Mediante la libreria Pandas podemos crear un gráfico con 2 componentes para saber si nuestros datos siguen (aproximadamente) la distribución normal.\n",
    "- https://www.superprof.es/apuntes/escolar/matematicas/probabilidades/distribucion-normal/empleo-de-la-tabla-de-la-distribucion-normal.html\n",
    "\n",
    "1. Un diagrama de barras o histograma con los datos de la muestra\n",
    "2. Dibujar la curva de la distribución encima del diagrama para ver si se parece o no.\n",
    "\n",
    "![hist-gauss.png](hist-gauss.png \"Gauss\")"
   ]
  }
 ],
 "metadata": {
  "kernelspec": {
   "display_name": "Python 3.10.6 ('bio')",
   "language": "python",
   "name": "python3"
  },
  "language_info": {
   "codemirror_mode": {
    "name": "ipython",
    "version": 3
   },
   "file_extension": ".py",
   "mimetype": "text/x-python",
   "name": "python",
   "nbconvert_exporter": "python",
   "pygments_lexer": "ipython3",
   "version": "3.10.6"
  },
  "vscode": {
   "interpreter": {
    "hash": "80d9a229293de82ff0a6cdcaeef08119522d819e34b64930a164959170ead25a"
   }
  }
 },
 "nbformat": 4,
 "nbformat_minor": 4
}
