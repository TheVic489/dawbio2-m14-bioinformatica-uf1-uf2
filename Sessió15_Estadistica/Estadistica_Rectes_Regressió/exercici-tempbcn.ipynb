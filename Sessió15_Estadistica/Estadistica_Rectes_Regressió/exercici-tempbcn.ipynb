{
 "cells": [
  {
   "cell_type": "markdown",
   "metadata": {},
   "source": [
    "## Exercici Rectes Regressió. Les temperatures han pujat a Barcelona degut al canvi climàtic ?\n",
    "\n",
    "En aquest [blog han verificat, creant un gràfic amb una recta de regressió, que les temperatures a Londres han pujat força](https://towardsdatascience.com/regression-plots-with-pandas-and-numpy-faf2edbfad4f); mitjançant Pandas i Matplotlib i un fitxer CSV extret d'un portal oficial d'Opendata.\n",
    "\n",
    "Podeu provar [el codi font en el fitxer exemple-templondres.py](./exemple-templondres.py)\n",
    "\n",
    "L'exercici consisteix en que creeu una recta de regressió similar usant una altra font de dades. Us proposem el de [les temperatures, de l'Ajuntament de Barcelona](https://opendata-ajuntament.barcelona.cat/data/ca/dataset/temperatures-hist-bcn), actualitzada al 2021.\n",
    "\n",
    "[CSV temperatures Barcelona, act. 2021](./temperaturesbarcelonadesde1780.csv)\n",
    "\n",
    "<em>Observacions: Aquestes mostres segurament s'han tret de l'observatori Fabra i Puig, que té un clima més suau. Per consultar la info de qualsevol estació metereològica cal anar a la web oficial [portal transparència meteo.cat](https://analisi.transparenciacatalunya.cat/Medi-Ambient/Dades-meteorol-giques-de-la-XEMA/nzvn-apee) i fer un tractament previ que és molt entretingut.\n",
    "</em>\n",
    "\n"
   ]
  },
  {
   "cell_type": "code",
   "execution_count": 100,
   "metadata": {},
   "outputs": [
    {
     "name": "stdout",
     "output_type": "stream",
     "text": [
      "      Any  Temp_Mitjana_Gener  Temp_Mitjana_Febrer  Temp_Mitjana_Marc  \\\n",
      "227  2007                 9.9                 11.4               12.1   \n",
      "228  2008                10.1                 10.2               10.8   \n",
      "229  2009                 7.2                  8.7               11.2   \n",
      "230  2010                 6.6                  8.0                9.6   \n",
      "231  2011                 8.4                 10.0               10.9   \n",
      "232  2012                 9.4                  6.8               13.4   \n",
      "233  2013                 9.1                  7.7               11.2   \n",
      "234  2014                 9.8                 10.1               12.3   \n",
      "235  2015                 9.1                  8.2               12.0   \n",
      "236  2016                10.7                 11.3               11.1   \n",
      "237  2017                 7.9                 11.4               13.3   \n",
      "238  2018                10.5                  6.7               10.8   \n",
      "239  2019                 8.1                 11.9               13.5   \n",
      "240  2020                10.0                 12.8               11.9   \n",
      "241  2021                 7.7                 11.6               12.1   \n",
      "\n",
      "     Temp_Mitjana_Abril  Temp_Mitjana_Maig  Temp_Mitjana_Juny  \\\n",
      "227                15.0               17.9               22.0   \n",
      "228                13.7               16.6               20.7   \n",
      "229                13.1               18.8               23.0   \n",
      "230                14.1               15.4               20.3   \n",
      "231                15.9               18.3               19.5   \n",
      "232                12.6               17.9               22.3   \n",
      "233                13.5               14.6               19.5   \n",
      "234                15.3               16.2               21.7   \n",
      "235                14.8               19.1               23.2   \n",
      "236                13.6               16.4               21.6   \n",
      "237                14.2               18.3               23.6   \n",
      "238                14.7               17.1               21.5   \n",
      "239                13.4               15.6               21.9   \n",
      "240                14.3               19.4               20.1   \n",
      "241                12.9               17.3               23.3   \n",
      "\n",
      "     Temp_Mitjana_Juliol  Temp_Mitjana_Agost  Temp_Mitjana_Setembre  \\\n",
      "227                 23.6                22.5                   20.6   \n",
      "228                 23.8                24.3                   20.7   \n",
      "229                 24.4                26.3                   21.5   \n",
      "230                 25.7                24.3                   20.9   \n",
      "231                 21.2                24.1                   22.9   \n",
      "232                 23.2                26.0                   21.4   \n",
      "233                 25.6                24.9                   22.0   \n",
      "234                 22.6                23.0                   22.0   \n",
      "235                 26.0                23.5                   19.7   \n",
      "236                 24.9                24.5                   22.3   \n",
      "237                 24.2                24.5                   19.5   \n",
      "238                 25.3                25.8                   22.5   \n",
      "239                 25.4                25.1                   21.8   \n",
      "240                 25.0                25.5                   21.7   \n",
      "241                 24.8                24.5                   23.0   \n",
      "\n",
      "     Temp_Mitjana_Octubre  Temp_Mitjana_Novembre  Temp_Mitjana_Desembre  \n",
      "227                  16.4                   11.2                    8.8  \n",
      "228                  16.5                   10.3                    7.5  \n",
      "229                  17.9                   13.5                    9.0  \n",
      "230                  16.2                   11.0                    8.5  \n",
      "231                  19.1                   14.1                   10.2  \n",
      "232                  17.3                   12.7                    9.9  \n",
      "233                  19.5                   12.2                   10.1  \n",
      "234                  19.6                   13.6                    9.1  \n",
      "235                  16.7                   14.3                   12.6  \n",
      "236                  17.1                   12.7                   11.5  \n",
      "237                  18.6                   12.5                    8.5  \n",
      "238                  17.0                   12.4                   11.1  \n",
      "239                  18.5                   11.9                   11.2  \n",
      "240                  16.4                   14.7                    9.3  \n",
      "241                  18.1                   11.3                   10.9  \n"
     ]
    }
   ],
   "source": [
    "## Importem llibreries\n",
    "import pandas as pd\n",
    "import numpy as np\n",
    "import matplotlib.pyplot as plt\n",
    "\n",
    "## Llegim el CSV i el posem en un Pandas Dataframe.\n",
    "weatherBcn = pd.read_csv('./temperaturesbarcelonadesde1780.csv')\n",
    "# print(weatherBcn)\n",
    "\n",
    "## Volem fer l'estudi dels últims 15 anys només.\n",
    "weatherBcnXXI = weatherBcn.tail(15)\n",
    "print(weatherBcnXXI)\n"
   ]
  },
  {
   "cell_type": "code",
   "execution_count": 124,
   "metadata": {},
   "outputs": [
    {
     "name": "stdout",
     "output_type": "stream",
     "text": [
      "     Any  Temp_Mitjana_Juliol\n",
      "0   2007                 23.6\n",
      "1   2008                 23.8\n",
      "2   2009                 24.4\n",
      "3   2010                 25.7\n",
      "4   2011                 21.2\n",
      "5   2012                 23.2\n",
      "6   2013                 25.6\n",
      "7   2014                 22.6\n",
      "8   2015                 26.0\n",
      "9   2016                 24.9\n",
      "10  2017                 24.2\n",
      "11  2018                 25.3\n",
      "12  2019                 25.4\n",
      "13  2020                 25.0\n",
      "14  2021                 24.8\n",
      "15  2022                 26.8\n"
     ]
    },
    {
     "name": "stderr",
     "output_type": "stream",
     "text": [
      "C:\\Users\\39899124N\\AppData\\Local\\Temp\\ipykernel_2980\\851818543.py:15: FutureWarning: The frame.append method is deprecated and will be removed from pandas in a future version. Use pandas.concat instead.\n",
      "  weatherBcnXXIJuly = weatherBcnXXIJuly.append({'Any':'2022', 'Temp_Mitjana_Juliol':26.8}, ignore_index=True)\n"
     ]
    }
   ],
   "source": [
    "#Cada columna presenta la Temp_Mitjana. \n",
    "\n",
    "#Per a l'estudi, seleccionarem les del juny.\n",
    "#Fixem-nos com podem seleccionar fàcilment les columnes per la etiqueta de la capçalera.\n",
    "weatherBcnXXIJune = weatherBcnXXI[['Any','Temp_Mitjana_Juny']]\n",
    "weatherBcnXXIJuly = weatherBcnXXI[['Any','Temp_Mitjana_Juliol']]\n",
    "weatherBcnXXIAugust = weatherBcnXXI[['Any','Temp_Mitjana_Agost']]\n",
    "\n",
    "## Opcional, afegir manualment la temperatura del juiol del 2022.\n",
    "## insert-> per a columnes, append-> per a files.\n",
    "## https://datagy.io/pandas-add-row/\n",
    "## https://www.ccma.cat/el-temps/barcelona-registra-el-segon-juliol-mes-caloros-des-de-1914/noticia/3178369/\n",
    "\n",
    "# Mètode correcte, però obsolet.\n",
    "#weatherBcnXXIJuly = weatherBcnXXIJuly.append({'Any':'2022', 'Temp_Mitjana_Juliol':26.8}, ignore_index=True)\n",
    "\n",
    "print(weatherBcnXXIJuly)"
   ]
  },
  {
   "cell_type": "code",
   "execution_count": 125,
   "metadata": {},
   "outputs": [
    {
     "data": {
      "text/plain": [
       "<AxesSubplot:xlabel='Any'>"
      ]
     },
     "execution_count": 125,
     "metadata": {},
     "output_type": "execute_result"
    },
    {
     "data": {
      "image/png": "[encoded data removed]",
      "text/plain": [
       "<Figure size 432x288 with 1 Axes>"
      ]
     },
     "metadata": {
      "needs_background": "light"
     },
     "output_type": "display_data"
    }
   ],
   "source": [
    "#Ara, creem el gràfic bàsic. \n",
    "weatherBcnXXIJuly.plot(y='Temp_Mitjana_Juliol',x='Any',label = \"{f}\")"
   ]
  },
  {
   "cell_type": "markdown",
   "metadata": {},
   "source": [
    "### Càlcul de la recta de regressió.\n",
    "\n",
    "La necessitem saber per a preveure la tendència de creixement de les temperatures.\n",
    "En aquest cas, la regressió lineal encaixa bastant. \n",
    "\n",
    "En altres distribucions de dades encaixen les polinòmiques.\n",
    "\n",
    "Recursos auxiliars:\n",
    "* [Què és i com es calcula una recta de regressió](https://www.khanacademy.org/math/statistics-probability/describing-relationships-quantitative-data/more-on-regression/v/regression-line-example)\n",
    "* [Dibuixar recta regressió amb Libre Office Calc](https://www.youtube.com/watch?v=nmka5nxV4AY)\n"
   ]
  },
  {
   "cell_type": "code",
   "execution_count": 126,
   "metadata": {},
   "outputs": [
    {
     "ename": "TypeError",
     "evalue": "can only concatenate str (not \"float\") to str",
     "output_type": "error",
     "traceback": [
      "\u001b[1;31m---------------------------------------------------------------------------\u001b[0m",
      "\u001b[1;31mTypeError\u001b[0m                                 Traceback (most recent call last)",
      "\u001b[1;32m~\\AppData\\Local\\Temp\\ipykernel_2980\\1950562454.py\u001b[0m in \u001b[0;36m<module>\u001b[1;34m\u001b[0m\n\u001b[0;32m      1\u001b[0m \u001b[1;31m#Ara, calculem la recta de regressió lineal.\u001b[0m\u001b[1;33m\u001b[0m\u001b[1;33m\u001b[0m\u001b[0m\n\u001b[0;32m      2\u001b[0m \u001b[1;33m\u001b[0m\u001b[0m\n\u001b[1;32m----> 3\u001b[1;33m \u001b[0mg\u001b[0m \u001b[1;33m=\u001b[0m \u001b[0mnp\u001b[0m\u001b[1;33m.\u001b[0m\u001b[0mpolyfit\u001b[0m\u001b[1;33m(\u001b[0m\u001b[0mweatherBcnXXIJuly\u001b[0m\u001b[1;33m[\u001b[0m\u001b[1;34m'Any'\u001b[0m\u001b[1;33m]\u001b[0m\u001b[1;33m,\u001b[0m\u001b[0mweatherBcnXXIJuly\u001b[0m\u001b[1;33m[\u001b[0m\u001b[1;34m'Temp_Mitjana_Juliol'\u001b[0m\u001b[1;33m]\u001b[0m\u001b[1;33m,\u001b[0m\u001b[1;36m1\u001b[0m\u001b[1;33m)\u001b[0m\u001b[1;33m\u001b[0m\u001b[1;33m\u001b[0m\u001b[0m\n\u001b[0m\u001b[0;32m      4\u001b[0m \u001b[1;31m#poly1d -> reg.lineal\u001b[0m\u001b[1;33m\u001b[0m\u001b[1;33m\u001b[0m\u001b[0m\n\u001b[0;32m      5\u001b[0m \u001b[0mf\u001b[0m \u001b[1;33m=\u001b[0m \u001b[0mnp\u001b[0m\u001b[1;33m.\u001b[0m\u001b[0mpoly1d\u001b[0m\u001b[1;33m(\u001b[0m\u001b[0mg\u001b[0m\u001b[1;33m)\u001b[0m\u001b[1;33m\u001b[0m\u001b[1;33m\u001b[0m\u001b[0m\n",
      "\u001b[1;32mc:\\Users\\39899124N\\Anaconda3\\envs\\BIO\\lib\\site-packages\\numpy\\core\\overrides.py\u001b[0m in \u001b[0;36mpolyfit\u001b[1;34m(*args, **kwargs)\u001b[0m\n",
      "\u001b[1;32mc:\\Users\\39899124N\\Anaconda3\\envs\\BIO\\lib\\site-packages\\numpy\\lib\\polynomial.py\u001b[0m in \u001b[0;36mpolyfit\u001b[1;34m(x, y, deg, rcond, full, w, cov)\u001b[0m\n\u001b[0;32m    627\u001b[0m     \"\"\"\n\u001b[0;32m    628\u001b[0m     \u001b[0morder\u001b[0m \u001b[1;33m=\u001b[0m \u001b[0mint\u001b[0m\u001b[1;33m(\u001b[0m\u001b[0mdeg\u001b[0m\u001b[1;33m)\u001b[0m \u001b[1;33m+\u001b[0m \u001b[1;36m1\u001b[0m\u001b[1;33m\u001b[0m\u001b[1;33m\u001b[0m\u001b[0m\n\u001b[1;32m--> 629\u001b[1;33m     \u001b[0mx\u001b[0m \u001b[1;33m=\u001b[0m \u001b[0mNX\u001b[0m\u001b[1;33m.\u001b[0m\u001b[0masarray\u001b[0m\u001b[1;33m(\u001b[0m\u001b[0mx\u001b[0m\u001b[1;33m)\u001b[0m \u001b[1;33m+\u001b[0m \u001b[1;36m0.0\u001b[0m\u001b[1;33m\u001b[0m\u001b[1;33m\u001b[0m\u001b[0m\n\u001b[0m\u001b[0;32m    630\u001b[0m     \u001b[0my\u001b[0m \u001b[1;33m=\u001b[0m \u001b[0mNX\u001b[0m\u001b[1;33m.\u001b[0m\u001b[0masarray\u001b[0m\u001b[1;33m(\u001b[0m\u001b[0my\u001b[0m\u001b[1;33m)\u001b[0m \u001b[1;33m+\u001b[0m \u001b[1;36m0.0\u001b[0m\u001b[1;33m\u001b[0m\u001b[1;33m\u001b[0m\u001b[0m\n\u001b[0;32m    631\u001b[0m \u001b[1;33m\u001b[0m\u001b[0m\n",
      "\u001b[1;31mTypeError\u001b[0m: can only concatenate str (not \"float\") to str"
     ]
    }
   ],
   "source": [
    "#Ara, calculem la recta de regressió lineal.\n",
    "\n",
    "g = np.polyfit(weatherBcnXXIJuly['Any'],weatherBcnXXIJuly['Temp_Mitjana_Juliol'],1)\n",
    "#poly1d -> reg.lineal\n",
    "f = np.poly1d(g)\n",
    "\n",
    "#Afegirem una columna que ens ajuda a calcular la regressió lineal.\n",
    "weatherBcnXXIJuly.insert(2,'Treg',f(weatherBcnXXIJuly['Any']))"
   ]
  },
  {
   "cell_type": "code",
   "execution_count": 120,
   "metadata": {},
   "outputs": [
    {
     "data": {
      "image/png": "[encoded data removed]",
      "text/plain": [
       "<Figure size 432x288 with 1 Axes>"
      ]
     },
     "metadata": {
      "needs_background": "light"
     },
     "output_type": "display_data"
    }
   ],
   "source": [
    "ax = weatherBcnXXIJuly.plot(x = 'Any',y='Temp_Mitjana_Juliol')\n",
    "weatherBcnXXIJuly.plot(x='Any', y='Treg',color='Red',ax=ax)\n",
    "plt.show()"
   ]
  },
  {
   "cell_type": "markdown",
   "metadata": {},
   "source": [
    "### Anàlisi resultats.\n",
    "\n",
    "Com podem veure, té un pendent considerable. La temperatura, en un observatori poc construït, ha pujat 1 grau i unes dècimes en 15 anys.\n",
    "\n",
    "I si comptessim els resultats d'aquest estiu 2022, encara seria més alt el pendent de la recta.\n",
    "\n"
   ]
  }
 ],
 "metadata": {
  "kernelspec": {
   "display_name": "Python 3.9.13 ('BIO')",
   "language": "python",
   "name": "python3"
  },
  "language_info": {
   "codemirror_mode": {
    "name": "ipython",
    "version": 3
   },
   "file_extension": ".py",
   "mimetype": "text/x-python",
   "name": "python",
   "nbconvert_exporter": "python",
   "pygments_lexer": "ipython3",
   "version": "3.9.13"
  },
  "orig_nbformat": 4,
  "vscode": {
   "interpreter": {
    "hash": "fd30d51c85b714a7a287e89ae0c46ad7e2aa9d922c64e0e7c3f89758baa3a519"
   }
  }
 },
 "nbformat": 4,
 "nbformat_minor": 2
}
