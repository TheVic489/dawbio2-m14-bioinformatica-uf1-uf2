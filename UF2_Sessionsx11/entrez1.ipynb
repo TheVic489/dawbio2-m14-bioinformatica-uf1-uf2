{
 "cells": [
  {
   "cell_type": "code",
   "execution_count": 5,
   "metadata": {},
   "outputs": [],
   "source": [
    "from unittest import result\n",
    "from Bio import Entrez\n",
    "from pathlib import Path\n",
    "import pprint \n",
    "\n",
    "# Entrez Config\n",
    "# No abuseu de les peticions a NCBI.\n",
    "Entrez.email = \"mamoro10@xtec.cat\""
   ]
  },
  {
   "cell_type": "code",
   "execution_count": 2,
   "metadata": {},
   "outputs": [
    {
     "name": "stdout",
     "output_type": "stream",
     "text": [
      "<class 'Bio.Entrez.Parser.DictionaryElement'>\n",
      "{'DbList': ['pubmed', 'protein', 'nuccore', 'ipg', 'nucleotide', 'structure', 'genome', 'annotinfo', 'assembly', 'bioproject', 'biosample', 'blastdbinfo', 'books', 'cdd', 'clinvar', 'gap', 'gapplus', 'grasp', 'dbvar', 'gene', 'gds', 'geoprofiles', 'homologene', 'medgen', 'mesh', 'nlmcatalog', 'omim', 'orgtrack', 'pmc', 'popset', 'proteinclusters', 'pcassay', 'protfam', 'pccompound', 'pcsubstance', 'seqannot', 'snp', 'sra', 'taxonomy', 'biocollections', 'gtr']}\n"
     ]
    }
   ],
   "source": [
    "handle = Entrez.einfo()\n",
    "result_bytes:   bytes   = handle.read()\n",
    "result_str:     str     = result_bytes.decode('utf-8')\n",
    "Path('result.xml').write_text(result_str)\n",
    "handle.close()\n",
    "\n",
    "with open('result.xml','rb') as xml_file:\n",
    "    record = Entrez.read(xml_file) #handle punter a un fitxe\n",
    "#Realitza el close, automaticament\n",
    "print(type(record)) #Similar a dict\n",
    "print(record)"
   ]
  },
  {
   "cell_type": "code",
   "execution_count": 3,
   "metadata": {},
   "outputs": [
    {
     "name": "stdout",
     "output_type": "stream",
     "text": [
      "dict_keys(['DbList'])\n",
      "dict_values([['pubmed', 'protein', 'nuccore', 'ipg', 'nucleotide', 'structure', 'genome', 'annotinfo', 'assembly', 'bioproject', 'biosample', 'blastdbinfo', 'books', 'cdd', 'clinvar', 'gap', 'gapplus', 'grasp', 'dbvar', 'gene', 'gds', 'geoprofiles', 'homologene', 'medgen', 'mesh', 'nlmcatalog', 'omim', 'orgtrack', 'pmc', 'popset', 'proteinclusters', 'pcassay', 'protfam', 'pccompound', 'pcsubstance', 'seqannot', 'snp', 'sra', 'taxonomy', 'biocollections', 'gtr']])\n"
     ]
    }
   ],
   "source": [
    "print(record.keys())\n",
    "print(record.values())"
   ]
  },
  {
   "attachments": {},
   "cell_type": "markdown",
   "metadata": {},
   "source": [
    "## Llegim la base de dades de nucleòtids a un xml.\n",
    "\n",
    "# Només ho fem una vegada per no saturar el servidor NCBI."
   ]
  },
  {
   "cell_type": "code",
   "execution_count": 6,
   "metadata": {},
   "outputs": [
    {
     "name": "stdout",
     "output_type": "stream",
     "text": [
      "<class 'Bio.Entrez.Parser.DictionaryElement'>\n",
      "1\n"
     ]
    }
   ],
   "source": [
    "with Entrez.einfo(db=\"nucleotide\") as response:\n",
    "    nuc_db_xml_str = response.read()\n",
    "    ## escriptura, format binari.\n",
    "    with open ('nuc_db.xml', 'wb') as xml_file:\n",
    "        xml_file.write(nuc_db_xml_str)\n",
    "\n",
    "with open('nuc_db.xml', 'rb') as xml_file:\n",
    "    nuc_db = Entrez.read(xml_file)\n",
    "#Realitza el close, automaticament\n"
   ]
  },
  {
   "attachments": {},
   "cell_type": "markdown",
   "metadata": {},
   "source": [
    "## Un cop llegit el fitxer nuc_db.xml ja podem llegir tot el que volguem dels nucleòtids."
   ]
  },
  {
   "cell_type": "code",
   "execution_count": 9,
   "metadata": {},
   "outputs": [
    {
     "name": "stdout",
     "output_type": "stream",
     "text": [
      "<class 'Bio.Entrez.Parser.DictionaryElement'>\n",
      "1\n",
      "dict_keys(['DbName', 'MenuName', 'Description', 'DbBuild', 'Count', 'LastUpdate', 'FieldList', 'LinkList'])\n"
     ]
    },
    {
     "ename": "AttributeError",
     "evalue": "'DictionaryElement' object has no attribute 'Description'",
     "output_type": "error",
     "traceback": [
      "\u001b[0;31m---------------------------------------------------------------------------\u001b[0m",
      "\u001b[0;31mAttributeError\u001b[0m                            Traceback (most recent call last)",
      "Cell \u001b[0;32mIn [9], line 4\u001b[0m\n\u001b[1;32m      2\u001b[0m \u001b[39mprint\u001b[39m(\u001b[39mlen\u001b[39m(nuc_db))\n\u001b[1;32m      3\u001b[0m \u001b[39mprint\u001b[39m(nuc_db[\u001b[39m'\u001b[39m\u001b[39mDbInfo\u001b[39m\u001b[39m'\u001b[39m]\u001b[39m.\u001b[39mkeys())\n\u001b[0;32m----> 4\u001b[0m \u001b[39mprint\u001b[39m(nuc_db[\u001b[39m'\u001b[39;49m\u001b[39mDbInfo\u001b[39;49m\u001b[39m'\u001b[39;49m]\u001b[39m.\u001b[39;49mDescription)\n\u001b[1;32m      6\u001b[0m \u001b[39mprint\u001b[39m(nuc_db[\u001b[39m'\u001b[39m\u001b[39mDbInfo\u001b[39m\u001b[39m'\u001b[39m][\u001b[39m'\u001b[39m\u001b[39mFieldList\u001b[39m\u001b[39m'\u001b[39m][\u001b[39m0\u001b[39m])\n",
      "\u001b[0;31mAttributeError\u001b[0m: 'DictionaryElement' object has no attribute 'Description'"
     ]
    }
   ],
   "source": [
    "print(type(nuc_db))\n",
    "print(len(nuc_db))\n",
    "print(nuc_db['DbInfo'].keys())\n",
    "print(nuc_db['DbInfo']['Description'])\n",
    "\n",
    "print(nuc_db['DbInfo']['FieldList'][0])"
   ]
  },
  {
   "cell_type": "code",
   "execution_count": 40,
   "metadata": {},
   "outputs": [],
   "source": [
    "with open('pubmed.xml','rb') as xml_file:\n",
    "    record = Entrez.read(xml_file)\n",
    "\n",
    "field_list = [ {'name': field['Name'],\n",
    "                'full_name': field['FullName'],\n",
    "                'description': field['Description']\n",
    "                }\n",
    "                for field in record['DbInfo']['FieldList']]\n",
    "\n",
    "sorted_field_list: list[dict] = sorted(field_list, key=lambda field: field['name'])\n"
   ]
  }
 ],
 "metadata": {
  "kernelspec": {
   "display_name": "bio",
   "language": "python",
   "name": "python3"
  },
  "language_info": {
   "codemirror_mode": {
    "name": "ipython",
    "version": 3
   },
   "file_extension": ".py",
   "mimetype": "text/x-python",
   "name": "python",
   "nbconvert_exporter": "python",
   "pygments_lexer": "ipython3",
   "version": "3.10.6"
  },
  "orig_nbformat": 4,
  "vscode": {
   "interpreter": {
    "hash": "80d9a229293de82ff0a6cdcaeef08119522d819e34b64930a164959170ead25a"
   }
  }
 },
 "nbformat": 4,
 "nbformat_minor": 2
}
