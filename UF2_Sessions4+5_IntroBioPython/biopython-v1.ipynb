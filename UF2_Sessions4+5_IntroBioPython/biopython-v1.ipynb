{
 "cells": [
  {
   "cell_type": "code",
   "execution_count": 11,
   "metadata": {},
   "outputs": [
    {
     "data": {
      "text/plain": [
       "Seq('GATAGATA')"
      ]
     },
     "execution_count": 11,
     "metadata": {},
     "output_type": "execute_result"
    }
   ],
   "source": [
    "from Bio.Seq import Seq\n",
    "# Un ADN ha de tenir triples valors (longitud múltiple de 3) per a treure les proteïnes.\n",
    "my_seq = Seq(\"GATAGATA\")\n",
    "my_seq"
   ]
  },
  {
   "attachments": {},
   "cell_type": "markdown",
   "metadata": {},
   "source": [
    "## Convertim una cadena ADN a ARN i a proteïna.\n",
    "\n",
    "L'ADN ha de tenir triples valors (longitud múltiple de 3) per poder traduïr-ho a proteïnes.\n",
    "\n",
    "A la vida real no es poden fer els 2 passos automàticament, primer transcripció a ARN (U en comptes de T) i després traducció a proteïna.\n"
   ]
  },
  {
   "cell_type": "code",
   "execution_count": 12,
   "metadata": {},
   "outputs": [
    {
     "data": {
      "text/plain": [
       "Seq('GAUAGAUAU')"
      ]
     },
     "execution_count": 12,
     "metadata": {},
     "output_type": "execute_result"
    }
   ],
   "source": [
    "Seq(\"GATAGATAT\").transcribe()"
   ]
  },
  {
   "cell_type": "code",
   "execution_count": 13,
   "metadata": {},
   "outputs": [
    {
     "data": {
      "text/plain": [
       "Seq('DRY')"
      ]
     },
     "execution_count": 13,
     "metadata": {},
     "output_type": "execute_result"
    }
   ],
   "source": [
    "Seq(\"GATAGATAT\").translate()"
   ]
  },
  {
   "attachments": {},
   "cell_type": "markdown",
   "metadata": {},
   "source": [
    "## Seqüeǹcies complementaries i revers complementari. 🧬\n",
    "\n",
    "Recordem que l'ADN és una cadena amb forma de doble hèlix, per això podem fer aquestes operacions."
   ]
  },
  {
   "cell_type": "code",
   "execution_count": 14,
   "metadata": {},
   "outputs": [
    {
     "data": {
      "text/plain": [
       "Seq('CTATCTATA')"
      ]
     },
     "execution_count": 14,
     "metadata": {},
     "output_type": "execute_result"
    }
   ],
   "source": [
    "my_seq = Seq(\"GATAGATAT\")\n",
    "my_seq.complement()"
   ]
  },
  {
   "attachments": {},
   "cell_type": "markdown",
   "metadata": {},
   "source": [
    "## Fitxers .fasta\n",
    "\n",
    "La forma estàndard de guardar sequències (cadenes) d'ADN és el fitxer .fasta\n",
    "\n",
    "Poden tenir una sequència o més sequències (multifasta).\n",
    "\n",
    "Cada sequència:\n",
    "-    Un comentari/descripció que comença per > i es una sola linea. Dona informació important de l'organisme \n",
    "i de quina font s'ha extret.\n",
    "-    La seqüència de bases dividides per línies de ...[70] caràcters pot variar.\n",
    "\n",
    "### Exemple multifasta que usarem.\n",
    "\n",
    "Descarreguem i llegim el fitxer que proposa la documentació BioPython, en el punt 2.4.1 \n",
    "\n",
    "<a href=\"https://raw.githubusercontent.com/biopython/biopython/master/Doc/examples/ls_orchid.fasta\">Multifasta Orquidea</a>\n",
    "\n",
    "Mitjançant un iterador (for), llegim totes les cadenes:"
   ]
  },
  {
   "cell_type": "code",
   "execution_count": null,
   "metadata": {},
   "outputs": [],
   "source": [
    "from Bio import SeqIO\n",
    "for seq_record in SeqIO.parse(\"ls_orchid.fasta\", \"fasta\"):\n",
    "     print(seq_record.id)\n",
    "     print(repr(seq_record.seq))\n",
    "     print(len(seq_record))"
   ]
  },
  {
   "attachments": {},
   "cell_type": "markdown",
   "metadata": {},
   "source": [
    "### Com podem llegir les dades en una llista ?\n",
    "\n",
    "Si només volem saber quantes linies hi ha, ho fem posant la seqüència en una llista."
   ]
  },
  {
   "cell_type": "code",
   "execution_count": 23,
   "metadata": {},
   "outputs": [
    {
     "data": {
      "text/plain": [
       "94"
      ]
     },
     "execution_count": 23,
     "metadata": {},
     "output_type": "execute_result"
    }
   ],
   "source": [
    "seq_list = list(SeqIO.parse(\"ls_orchid.fasta\", \"fasta\"))\n",
    "len(seq_list)"
   ]
  },
  {
   "attachments": {},
   "cell_type": "markdown",
   "metadata": {},
   "source": [
    "## Fitxers .fastaq\n",
    "\n",
    "Calidad "
   ]
  }
 ],
 "metadata": {
  "kernelspec": {
   "display_name": "bio",
   "language": "python",
   "name": "python3"
  },
  "language_info": {
   "codemirror_mode": {
    "name": "ipython",
    "version": 3
   },
   "file_extension": ".py",
   "mimetype": "text/x-python",
   "name": "python",
   "nbconvert_exporter": "python",
   "pygments_lexer": "ipython3",
   "version": "3.10.6 (main, Oct 24 2022, 16:07:47) [GCC 11.2.0]"
  },
  "orig_nbformat": 4,
  "vscode": {
   "interpreter": {
    "hash": "80d9a229293de82ff0a6cdcaeef08119522d819e34b64930a164959170ead25a"
   }
  }
 },
 "nbformat": 4,
 "nbformat_minor": 2
}
