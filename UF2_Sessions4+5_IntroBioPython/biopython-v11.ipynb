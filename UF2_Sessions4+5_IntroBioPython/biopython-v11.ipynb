{
 "cells": [
  {
   "cell_type": "code",
   "execution_count": 1,
   "metadata": {},
   "outputs": [
    {
     "data": {
      "text/plain": [
       "Seq('GATAGATA')"
      ]
     },
     "execution_count": 1,
     "metadata": {},
     "output_type": "execute_result"
    }
   ],
   "source": [
    "from Bio.Seq import Seq\n",
    "# Un ADN ha de tenir triples valors (longitud múltiple de 3) per a treure les proteïnes.\n",
    "my_seq = Seq(\"GATAGATA\")\n",
    "my_seq"
   ]
  },
  {
   "attachments": {},
   "cell_type": "markdown",
   "metadata": {},
   "source": [
    "## Convertim una cadena ADN a ARN i a proteïna.\n",
    "\n",
    "L'ADN ha de tenir triples valors (longitud múltiple de 3) per poder traduïr-ho a proteïnes.\n",
    "\n",
    "A la vida real no es poden fer els 2 passos automàticament, primer transcripció a ARN (U en comptes de T) i després traducció a proteïna.\n"
   ]
  },
  {
   "cell_type": "code",
   "execution_count": 2,
   "metadata": {},
   "outputs": [
    {
     "data": {
      "text/plain": [
       "Seq('GAUAGAUAU')"
      ]
     },
     "execution_count": 2,
     "metadata": {},
     "output_type": "execute_result"
    }
   ],
   "source": [
    "Seq(\"GATAGATAT\").transcribe()"
   ]
  },
  {
   "cell_type": "code",
   "execution_count": 3,
   "metadata": {},
   "outputs": [
    {
     "data": {
      "text/plain": [
       "Seq('DRY')"
      ]
     },
     "execution_count": 3,
     "metadata": {},
     "output_type": "execute_result"
    }
   ],
   "source": [
    "Seq(\"GATAGATAT\").translate()"
   ]
  },
  {
   "attachments": {},
   "cell_type": "markdown",
   "metadata": {},
   "source": [
    "## Seqüeǹcies complementaries i revers complementari. 🧬\n",
    "\n",
    "Recordem que l'ADN és una cadena amb forma de doble hèlix, per això podem fer aquestes operacions."
   ]
  },
  {
   "cell_type": "code",
   "execution_count": 4,
   "metadata": {},
   "outputs": [
    {
     "data": {
      "text/plain": [
       "Seq('CTATCTATA')"
      ]
     },
     "execution_count": 4,
     "metadata": {},
     "output_type": "execute_result"
    }
   ],
   "source": [
    "my_seq = Seq(\"GATAGATAT\")\n",
    "my_seq.complement()"
   ]
  },
  {
   "attachments": {},
   "cell_type": "markdown",
   "metadata": {},
   "source": [
    "## Fitxers .fasta\n",
    "\n",
    "La forma estàndard de guardar sequències (cadenes) d'ADN és el fitxer .fasta\n",
    "\n",
    "Poden tenir una sequència o més sequències (multifasta).\n",
    "\n",
    "Cada sequència:\n",
    "-    Un comentari/descripció que comença per > i es una sola linea. Dona informació important de l'organisme \n",
    "i de quina font s'ha extret.\n",
    "-    La seqüència de bases dividides per línies de ...[70] caràcters pot variar.\n",
    "\n",
    "### Exemple multifasta que usarem.\n",
    "\n",
    "Descarreguem i llegim el fitxer que proposa la documentació BioPython, en el punt 2.4.1 \n",
    "\n",
    "<a href=\"https://raw.githubusercontent.com/biopython/biopython/master/Doc/examples/ls_orchid.fasta\">Multifasta Orquidea</a>\n",
    "\n",
    "Mitjançant un iterador (for), llegim totes les cadenes:"
   ]
  },
  {
   "cell_type": "code",
   "execution_count": 5,
   "metadata": {},
   "outputs": [
    {
     "name": "stdout",
     "output_type": "stream",
     "text": [
      "gi|2765658|emb|Z78533.1|CIZ78533\n",
      "Seq('CGTAACAAGGTTTCCGTAGGTGAACCTGCGGAAGGATCATTGATGAGACCGTGG...CGC')\n",
      "740\n",
      "gi|2765657|emb|Z78532.1|CCZ78532\n",
      "Seq('CGTAACAAGGTTTCCGTAGGTGAACCTGCGGAAGGATCATTGTTGAGACAACAG...GGC')\n",
      "753\n",
      "gi|2765656|emb|Z78531.1|CFZ78531\n",
      "Seq('CGTAACAAGGTTTCCGTAGGTGAACCTGCGGAAGGATCATTGTTGAGACAGCAG...TAA')\n",
      "748\n"
     ]
    }
   ],
   "source": [
    "from Bio import SeqIO\n",
    "\n",
    "# Només visualitzarem les 3 primeres perquè hi ha moltes cadenes.\n",
    "num_seq=0\n",
    "for seq_record in SeqIO.parse(\"ls_orchid.fasta\", \"fasta\"):\n",
    "     if(num_seq<3):\n",
    "          print(seq_record.id)\n",
    "          print(repr(seq_record.seq))\n",
    "          print(len(seq_record))\n",
    "     num_seq=num_seq+1"
   ]
  },
  {
   "attachments": {},
   "cell_type": "markdown",
   "metadata": {},
   "source": [
    "### Com podem llegir les dades en una llista ?\n",
    "\n",
    "Si només volem saber quantes linies hi ha, ho fem posant la seqüència en una llista."
   ]
  },
  {
   "cell_type": "code",
   "execution_count": 6,
   "metadata": {},
   "outputs": [
    {
     "name": "stdout",
     "output_type": "stream",
     "text": [
      "94\n",
      "ID: gi|2765658|emb|Z78533.1|CIZ78533\n",
      "Name: gi|2765658|emb|Z78533.1|CIZ78533\n",
      "Description: gi|2765658|emb|Z78533.1|CIZ78533 C.irapeanum 5.8S rRNA gene and ITS1 and ITS2 DNA\n",
      "Number of features: 0\n",
      "Seq('CGTAACAAGGTTTCCGTAGGTGAACCTGCGGAAGGATCATTGATGAGACCGTGG...CGC')\n"
     ]
    }
   ],
   "source": [
    "seq_list = list(SeqIO.parse(\"ls_orchid.fasta\", \"fasta\"))\n",
    "print(len(seq_list))\n",
    "print(seq_list[0])"
   ]
  },
  {
   "attachments": {},
   "cell_type": "markdown",
   "metadata": {},
   "source": [
    "## Com llegim un fitxer de genbank ? "
   ]
  },
  {
   "cell_type": "code",
   "execution_count": 7,
   "metadata": {},
   "outputs": [
    {
     "data": {
      "text/plain": [
       "[SeqRecord(seq=Seq('ATTAAAGGTTTATACCTTCCCAGGTAACAAACCAACCAACTTTCGATCTCTTGT...AAA'), id='NC_045512.2', name='NC_045512', description='Severe acute respiratory syndrome coronavirus 2 isolate Wuhan-Hu-1, complete genome', dbxrefs=['BioProject:PRJNA485481'])]"
      ]
     },
     "execution_count": 7,
     "metadata": {},
     "output_type": "execute_result"
    }
   ],
   "source": [
    "# Llegeix multifasta o multigenbank, retorna un Iterador.\n",
    "sarscov2_list = list(SeqIO.parse(\"sars-cov-2.gb\", \"genbank\"))\n",
    "sarscov2_list"
   ]
  },
  {
   "cell_type": "code",
   "execution_count": 8,
   "metadata": {},
   "outputs": [
    {
     "data": {
      "text/plain": [
       "SeqRecord(seq=Seq('ATTAAAGGTTTATACCTTCCCAGGTAACAAACCAACCAACTTTCGATCTCTTGT...AAA'), id='NC_045512.2', name='NC_045512', description='Severe acute respiratory syndrome coronavirus 2 isolate Wuhan-Hu-1, complete genome', dbxrefs=['BioProject:PRJNA485481'])"
      ]
     },
     "execution_count": 8,
     "metadata": {},
     "output_type": "execute_result"
    }
   ],
   "source": [
    "# Llegeix un sol fasta o un sol genbank, retorna un únic seq_record.\n",
    "sarscov2_record = SeqIO.read(\"sars-cov-2.gb\", \"genbank\")\n",
    "sarscov2_record"
   ]
  },
  {
   "attachments": {},
   "cell_type": "markdown",
   "metadata": {},
   "source": [
    "### Llegir tot el contingut del genbank.\n",
    "\n",
    "Usarem reflexió (inspecció) del les classes de Python i el pretty print (pprint)"
   ]
  },
  {
   "cell_type": "code",
   "execution_count": 12,
   "metadata": {},
   "outputs": [
    {
     "data": {
      "text/plain": [
       "['annotations',\n",
       " 'dbxrefs',\n",
       " 'description',\n",
       " 'features',\n",
       " 'id',\n",
       " 'letter_annotations',\n",
       " 'name',\n",
       " 'seq']"
      ]
     },
     "execution_count": 12,
     "metadata": {},
     "output_type": "execute_result"
    }
   ],
   "source": [
    "import inspect\n",
    "import pprint\n",
    "\n",
    "def explore(obj: object) -> dict:\n",
    "    # 1. Get all members\n",
    "    member_list = inspect.getmembers(obj)\n",
    "    # 2. Dict comprension to convert list to dict. \n",
    "    # member[0] -> key, member[1] -> value\n",
    "    member_dict = { member[0]:member[1] for member in member_list }\n",
    "    # 3. Exclude all the private and system methods\n",
    "    public_member_dict = {  key:value \n",
    "                            for key,value in member_dict.items() \n",
    "                            if not key.startswith('_') }\n",
    "    # 4. Remove methods\n",
    "    public_member_dict = {  key:value \n",
    "                            for key,value in public_member_dict.items()\n",
    "                            if not inspect.ismethod(value)}\n",
    "    return public_member_dict\n",
    "\n",
    "list(explore(sarscov2_record).keys())\n"
   ]
  },
  {
   "attachments": {},
   "cell_type": "markdown",
   "metadata": {},
   "source": [
    "## Fitxers .fastaq\n",
    "\n",
    "Calidad "
   ]
  }
 ],
 "metadata": {
  "kernelspec": {
   "display_name": "Python 3 (ipykernel)",
   "language": "python",
   "name": "python3"
  },
  "language_info": {
   "codemirror_mode": {
    "name": "ipython",
    "version": 3
   },
   "file_extension": ".py",
   "mimetype": "text/x-python",
   "name": "python",
   "nbconvert_exporter": "python",
   "pygments_lexer": "ipython3",
   "version": "3.10.6"
  },
  "orig_nbformat": 4,
  "vscode": {
   "interpreter": {
    "hash": "36127510c386227a559e79989d3a816bc0e502485df7116c646a78e769cc8178"
   }
  }
 },
 "nbformat": 4,
 "nbformat_minor": 2
}
